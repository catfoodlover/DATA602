{
  "nbformat": 4,
  "nbformat_minor": 0,
  "metadata": {
    "colab": {
      "name": "WAIKEN_08_assignment_for_final.ipynb",
      "provenance": [],
      "collapsed_sections": [],
      "include_colab_link": true
    },
    "kernelspec": {
      "name": "python3",
      "display_name": "Python 3"
    }
  },
  "cells": [
    {
      "cell_type": "markdown",
      "metadata": {
        "id": "view-in-github",
        "colab_type": "text"
      },
      "source": [
        "<a href=\"https://colab.research.google.com/github/catfoodlover/DATA602/blob/main/WAIKEN_08_assignment_for_final.ipynb\" target=\"_parent\"><img src=\"https://colab.research.google.com/assets/colab-badge.svg\" alt=\"Open In Colab\"/></a>"
      ]
    },
    {
      "cell_type": "markdown",
      "metadata": {
        "id": "rd2QZetSDszc"
      },
      "source": [
        "# **Assignment 8**\n",
        "\n",
        "# **Weeks 10 & 11 - matplotlib & seaborn**\n",
        "* In this homework assignment, you will explore and analyze a public dataset of your choosing. Since this assignment is “open-ended” in nature, you are free to expand upon the requirements below. However, you must meet the minimum requirments as indicated in each section. \n",
        "\n",
        "\n",
        "* The preferred method for this analysis is in a .ipynb file. Feel free to use whichever platform of your choosing.  \n",
        "\n",
        "\n",
        "### **Some data examples:**\n",
        "•\thttps://www.data.gov/\n",
        "\n",
        "•\thttps://opendata.cityofnewyork.us/\n",
        "\n",
        "•\thttps://datasetsearch.research.google.com/\n",
        "\n",
        "•\thttps://archive.ics.uci.edu/ml/index.php\n",
        "\n",
        "### **Resources:**\n",
        "\n",
        "•\thttps://pandas.pydata.org/pandas-docs/stable/getting_started/10min.html \n",
        "\n",
        "•\thttps://www.oreilly.com/library/view/python-data-science/9781491912126/ch04.html\n",
        "\n",
        "•\thttps://www.data-to-viz.com/\n",
        "\n",
        "\n",
        "\n",
        "### **Headings or comments**\n",
        "**You are required to make use of comments, or headings for each section.  You must explain what your code is doing, and the results of running your code.**  Act as if you were giving this assignment to your manager - you must include clear and descriptive information for each section.\n",
        "\n",
        "### **You may work as a group or indivdually on this assignment.**\n"
      ]
    },
    {
      "cell_type": "markdown",
      "metadata": {
        "id": "uW3w6p8rqgxu"
      },
      "source": [
        "# Introduction\n",
        "\n",
        "In this section, please describe the dataset you are using.  Include a link to the source of this data.  You should also provide some explanation on why you choose this dataset."
      ]
    },
    {
      "cell_type": "markdown",
      "metadata": {
        "id": "L0PnfMOFzOXz"
      },
      "source": [
        ""
      ]
    },
    {
      "cell_type": "code",
      "source": [
        "import pandas as pd\n",
        "\n",
        "buy_df = pd.read_csv('https://raw.githubusercontent.com/catfoodlover/DATA602/main/buylist_cleaned.csv', index_col='Unnamed: 0')\n",
        "sell_df = pd.read_csv('https://raw.githubusercontent.com/catfoodlover/DATA602/main/selllist_cleaned.csv', index_col='Unnamed: 0')\n"
      ],
      "metadata": {
        "id": "8hE7DKWH_HX5"
      },
      "execution_count": null,
      "outputs": []
    },
    {
      "cell_type": "markdown",
      "metadata": {
        "id": "3bp8cdDxDs2t"
      },
      "source": [
        "______________\n",
        "# Data Exploration\n",
        "Import your dataset into your .ipynb, create dataframes, and explore your data.  \n",
        "\n",
        "Include: \n",
        "\n",
        "* Summary statistics means, medians, quartiles, \n",
        "* Missing value information\n",
        "* Any other relevant information about the dataset.  \n",
        "\n"
      ]
    },
    {
      "cell_type": "code",
      "source": [
        "buy_df.head()"
      ],
      "metadata": {
        "id": "3NUlO_ru1WqR",
        "colab": {
          "base_uri": "https://localhost:8080/",
          "height": 206
        },
        "outputId": "45d112f9-9517-4673-e1ed-a7fbd96c2833"
      },
      "execution_count": null,
      "outputs": [
        {
          "output_type": "execute_result",
          "data": {
            "text/plain": [
              "                                                 Name  Rarity  Quantity  \\\n",
              "8788   Liliana Dreadhorde General (JPN Alternate Art)  Mythic       3.0   \n",
              "11689           Hidetsugu, Devouring Chaos (Neon Red)    Rare       2.0   \n",
              "2606                                         Sol Ring       S       6.0   \n",
              "5891                                  Panglacial Wurm    Rare       2.0   \n",
              "2592                                       Mana Crypt       S       4.0   \n",
              "\n",
              "        Price               Expansion Finish  Language  Condition  \n",
              "8788   1900.0        War of the Spark   Foil  Japanese  NEAR MINT  \n",
              "11689  1000.0  Kamigawa  Neon Dynasty   Foil   English  NEAR MINT  \n",
              "2606    600.0     Kaladesh Inventions   Foil   English  NEAR MINT  \n",
              "5891    600.0                Coldsnap   Foil   English  NEAR MINT  \n",
              "2592    525.0     Kaladesh Inventions   Foil   English  NEAR MINT  "
            ],
            "text/html": [
              "\n",
              "  <div id=\"df-94256cc4-6835-445d-a47d-69549001498d\">\n",
              "    <div class=\"colab-df-container\">\n",
              "      <div>\n",
              "<style scoped>\n",
              "    .dataframe tbody tr th:only-of-type {\n",
              "        vertical-align: middle;\n",
              "    }\n",
              "\n",
              "    .dataframe tbody tr th {\n",
              "        vertical-align: top;\n",
              "    }\n",
              "\n",
              "    .dataframe thead th {\n",
              "        text-align: right;\n",
              "    }\n",
              "</style>\n",
              "<table border=\"1\" class=\"dataframe\">\n",
              "  <thead>\n",
              "    <tr style=\"text-align: right;\">\n",
              "      <th></th>\n",
              "      <th>Name</th>\n",
              "      <th>Rarity</th>\n",
              "      <th>Quantity</th>\n",
              "      <th>Price</th>\n",
              "      <th>Expansion</th>\n",
              "      <th>Finish</th>\n",
              "      <th>Language</th>\n",
              "      <th>Condition</th>\n",
              "    </tr>\n",
              "  </thead>\n",
              "  <tbody>\n",
              "    <tr>\n",
              "      <th>8788</th>\n",
              "      <td>Liliana Dreadhorde General (JPN Alternate Art)</td>\n",
              "      <td>Mythic</td>\n",
              "      <td>3.0</td>\n",
              "      <td>1900.0</td>\n",
              "      <td>War of the Spark</td>\n",
              "      <td>Foil</td>\n",
              "      <td>Japanese</td>\n",
              "      <td>NEAR MINT</td>\n",
              "    </tr>\n",
              "    <tr>\n",
              "      <th>11689</th>\n",
              "      <td>Hidetsugu, Devouring Chaos (Neon Red)</td>\n",
              "      <td>Rare</td>\n",
              "      <td>2.0</td>\n",
              "      <td>1000.0</td>\n",
              "      <td>Kamigawa  Neon Dynasty</td>\n",
              "      <td>Foil</td>\n",
              "      <td>English</td>\n",
              "      <td>NEAR MINT</td>\n",
              "    </tr>\n",
              "    <tr>\n",
              "      <th>2606</th>\n",
              "      <td>Sol Ring</td>\n",
              "      <td>S</td>\n",
              "      <td>6.0</td>\n",
              "      <td>600.0</td>\n",
              "      <td>Kaladesh Inventions</td>\n",
              "      <td>Foil</td>\n",
              "      <td>English</td>\n",
              "      <td>NEAR MINT</td>\n",
              "    </tr>\n",
              "    <tr>\n",
              "      <th>5891</th>\n",
              "      <td>Panglacial Wurm</td>\n",
              "      <td>Rare</td>\n",
              "      <td>2.0</td>\n",
              "      <td>600.0</td>\n",
              "      <td>Coldsnap</td>\n",
              "      <td>Foil</td>\n",
              "      <td>English</td>\n",
              "      <td>NEAR MINT</td>\n",
              "    </tr>\n",
              "    <tr>\n",
              "      <th>2592</th>\n",
              "      <td>Mana Crypt</td>\n",
              "      <td>S</td>\n",
              "      <td>4.0</td>\n",
              "      <td>525.0</td>\n",
              "      <td>Kaladesh Inventions</td>\n",
              "      <td>Foil</td>\n",
              "      <td>English</td>\n",
              "      <td>NEAR MINT</td>\n",
              "    </tr>\n",
              "  </tbody>\n",
              "</table>\n",
              "</div>\n",
              "      <button class=\"colab-df-convert\" onclick=\"convertToInteractive('df-94256cc4-6835-445d-a47d-69549001498d')\"\n",
              "              title=\"Convert this dataframe to an interactive table.\"\n",
              "              style=\"display:none;\">\n",
              "        \n",
              "  <svg xmlns=\"http://www.w3.org/2000/svg\" height=\"24px\"viewBox=\"0 0 24 24\"\n",
              "       width=\"24px\">\n",
              "    <path d=\"M0 0h24v24H0V0z\" fill=\"none\"/>\n",
              "    <path d=\"M18.56 5.44l.94 2.06.94-2.06 2.06-.94-2.06-.94-.94-2.06-.94 2.06-2.06.94zm-11 1L8.5 8.5l.94-2.06 2.06-.94-2.06-.94L8.5 2.5l-.94 2.06-2.06.94zm10 10l.94 2.06.94-2.06 2.06-.94-2.06-.94-.94-2.06-.94 2.06-2.06.94z\"/><path d=\"M17.41 7.96l-1.37-1.37c-.4-.4-.92-.59-1.43-.59-.52 0-1.04.2-1.43.59L10.3 9.45l-7.72 7.72c-.78.78-.78 2.05 0 2.83L4 21.41c.39.39.9.59 1.41.59.51 0 1.02-.2 1.41-.59l7.78-7.78 2.81-2.81c.8-.78.8-2.07 0-2.86zM5.41 20L4 18.59l7.72-7.72 1.47 1.35L5.41 20z\"/>\n",
              "  </svg>\n",
              "      </button>\n",
              "      \n",
              "  <style>\n",
              "    .colab-df-container {\n",
              "      display:flex;\n",
              "      flex-wrap:wrap;\n",
              "      gap: 12px;\n",
              "    }\n",
              "\n",
              "    .colab-df-convert {\n",
              "      background-color: #E8F0FE;\n",
              "      border: none;\n",
              "      border-radius: 50%;\n",
              "      cursor: pointer;\n",
              "      display: none;\n",
              "      fill: #1967D2;\n",
              "      height: 32px;\n",
              "      padding: 0 0 0 0;\n",
              "      width: 32px;\n",
              "    }\n",
              "\n",
              "    .colab-df-convert:hover {\n",
              "      background-color: #E2EBFA;\n",
              "      box-shadow: 0px 1px 2px rgba(60, 64, 67, 0.3), 0px 1px 3px 1px rgba(60, 64, 67, 0.15);\n",
              "      fill: #174EA6;\n",
              "    }\n",
              "\n",
              "    [theme=dark] .colab-df-convert {\n",
              "      background-color: #3B4455;\n",
              "      fill: #D2E3FC;\n",
              "    }\n",
              "\n",
              "    [theme=dark] .colab-df-convert:hover {\n",
              "      background-color: #434B5C;\n",
              "      box-shadow: 0px 1px 3px 1px rgba(0, 0, 0, 0.15);\n",
              "      filter: drop-shadow(0px 1px 2px rgba(0, 0, 0, 0.3));\n",
              "      fill: #FFFFFF;\n",
              "    }\n",
              "  </style>\n",
              "\n",
              "      <script>\n",
              "        const buttonEl =\n",
              "          document.querySelector('#df-94256cc4-6835-445d-a47d-69549001498d button.colab-df-convert');\n",
              "        buttonEl.style.display =\n",
              "          google.colab.kernel.accessAllowed ? 'block' : 'none';\n",
              "\n",
              "        async function convertToInteractive(key) {\n",
              "          const element = document.querySelector('#df-94256cc4-6835-445d-a47d-69549001498d');\n",
              "          const dataTable =\n",
              "            await google.colab.kernel.invokeFunction('convertToInteractive',\n",
              "                                                     [key], {});\n",
              "          if (!dataTable) return;\n",
              "\n",
              "          const docLinkHtml = 'Like what you see? Visit the ' +\n",
              "            '<a target=\"_blank\" href=https://colab.research.google.com/notebooks/data_table.ipynb>data table notebook</a>'\n",
              "            + ' to learn more about interactive tables.';\n",
              "          element.innerHTML = '';\n",
              "          dataTable['output_type'] = 'display_data';\n",
              "          await google.colab.output.renderOutput(dataTable, element);\n",
              "          const docLink = document.createElement('div');\n",
              "          docLink.innerHTML = docLinkHtml;\n",
              "          element.appendChild(docLink);\n",
              "        }\n",
              "      </script>\n",
              "    </div>\n",
              "  </div>\n",
              "  "
            ]
          },
          "metadata": {},
          "execution_count": 2
        }
      ]
    },
    {
      "cell_type": "code",
      "source": [
        "duplicate = buy_df[buy_df.duplicated()]\n",
        "print(duplicate)"
      ],
      "metadata": {
        "colab": {
          "base_uri": "https://localhost:8080/"
        },
        "id": "tq0p61PlKGbo",
        "outputId": "04dcd872-9b1d-418f-9649-5d5439fd6cc5"
      },
      "execution_count": null,
      "outputs": [
        {
          "output_type": "stream",
          "name": "stdout",
          "text": [
            "Empty DataFrame\n",
            "Columns: [Name, Rarity, Quantity, Price, Expansion, Finish, Language, Condition]\n",
            "Index: []\n"
          ]
        }
      ]
    },
    {
      "cell_type": "code",
      "source": [
        "duplicate = sell_df[sell_df.duplicated()]\n",
        "print(duplicate)"
      ],
      "metadata": {
        "colab": {
          "base_uri": "https://localhost:8080/"
        },
        "id": "EPvQZGnJKQRK",
        "outputId": "6884dc89-abab-4511-ab9e-ef6b7e57f842"
      },
      "execution_count": null,
      "outputs": [
        {
          "output_type": "stream",
          "name": "stdout",
          "text": [
            "Empty DataFrame\n",
            "Columns: [Name, Rarity, Quantity, Price, Language, Finish, Condition, Expansion]\n",
            "Index: []\n"
          ]
        }
      ]
    },
    {
      "cell_type": "markdown",
      "metadata": {
        "id": "kCSLIafaEGVK"
      },
      "source": [
        "# Data Wrangling\n",
        "\n",
        "Perform data wrangling.  You are free to use your best judgment here.  If you are stuck, look at previous assignment."
      ]
    },
    {
      "cell_type": "code",
      "source": [
        "buy_df['Condition'] = buy_df['Condition'].str.upper()\n",
        "buy_df['Name'] = buy_df['Name'].str.upper()\n",
        "buy_df['Expansion'] = buy_df['Expansion'].str.upper()\n",
        "buy_df['Language'] = buy_df['Language'].str.upper()\n",
        "buy_df['Finish'] = buy_df['Finish'].str.upper()\n",
        "buy_df['Rarity'] = buy_df['Rarity'].str.upper()\n",
        "\n",
        "buy_df['Condition'] = buy_df['Condition'].str.strip()\n",
        "buy_df['Name'] = buy_df['Name'].str.strip()\n",
        "buy_df['Expansion'] = buy_df['Expansion'].str.strip()\n",
        "buy_df['Language'] = buy_df['Language'].str.strip()\n",
        "buy_df['Finish'] = buy_df['Finish'].str.strip()\n",
        "buy_df['Rarity'] = buy_df['Rarity'].str.strip()\n",
        "\n",
        "buy_df['Name'] = (buy_df['Name'].str.split()).str.join(' ')\n",
        "buy_df['Expansion'] = (buy_df['Expansion'].str.split()).str.join(' ')\n",
        "buy_df['Condition'] = (buy_df['Condition'].str.split()).str.join(' ')\n",
        "buy_df.head()"
      ],
      "metadata": {
        "colab": {
          "base_uri": "https://localhost:8080/",
          "height": 206
        },
        "id": "NCSZCQNwd0Oj",
        "outputId": "1cfd7cf9-49b1-4ff1-f2f3-2e41ebbfc4ee"
      },
      "execution_count": null,
      "outputs": [
        {
          "output_type": "execute_result",
          "data": {
            "text/plain": [
              "                                                 Name  Rarity  Quantity  \\\n",
              "8788   LILIANA DREADHORDE GENERAL (JPN ALTERNATE ART)  MYTHIC       3.0   \n",
              "11689           HIDETSUGU, DEVOURING CHAOS (NEON RED)    RARE       2.0   \n",
              "2606                                         SOL RING       S       6.0   \n",
              "5891                                  PANGLACIAL WURM    RARE       2.0   \n",
              "2592                                       MANA CRYPT       S       4.0   \n",
              "\n",
              "        Price              Expansion Finish  Language  Condition  \n",
              "8788   1900.0       WAR OF THE SPARK   FOIL  JAPANESE  NEAR MINT  \n",
              "11689  1000.0  KAMIGAWA NEON DYNASTY   FOIL   ENGLISH  NEAR MINT  \n",
              "2606    600.0    KALADESH INVENTIONS   FOIL   ENGLISH  NEAR MINT  \n",
              "5891    600.0               COLDSNAP   FOIL   ENGLISH  NEAR MINT  \n",
              "2592    525.0    KALADESH INVENTIONS   FOIL   ENGLISH  NEAR MINT  "
            ],
            "text/html": [
              "\n",
              "  <div id=\"df-2cbdbe0f-018b-4b34-a6e3-cfa678d22d1c\">\n",
              "    <div class=\"colab-df-container\">\n",
              "      <div>\n",
              "<style scoped>\n",
              "    .dataframe tbody tr th:only-of-type {\n",
              "        vertical-align: middle;\n",
              "    }\n",
              "\n",
              "    .dataframe tbody tr th {\n",
              "        vertical-align: top;\n",
              "    }\n",
              "\n",
              "    .dataframe thead th {\n",
              "        text-align: right;\n",
              "    }\n",
              "</style>\n",
              "<table border=\"1\" class=\"dataframe\">\n",
              "  <thead>\n",
              "    <tr style=\"text-align: right;\">\n",
              "      <th></th>\n",
              "      <th>Name</th>\n",
              "      <th>Rarity</th>\n",
              "      <th>Quantity</th>\n",
              "      <th>Price</th>\n",
              "      <th>Expansion</th>\n",
              "      <th>Finish</th>\n",
              "      <th>Language</th>\n",
              "      <th>Condition</th>\n",
              "    </tr>\n",
              "  </thead>\n",
              "  <tbody>\n",
              "    <tr>\n",
              "      <th>8788</th>\n",
              "      <td>LILIANA DREADHORDE GENERAL (JPN ALTERNATE ART)</td>\n",
              "      <td>MYTHIC</td>\n",
              "      <td>3.0</td>\n",
              "      <td>1900.0</td>\n",
              "      <td>WAR OF THE SPARK</td>\n",
              "      <td>FOIL</td>\n",
              "      <td>JAPANESE</td>\n",
              "      <td>NEAR MINT</td>\n",
              "    </tr>\n",
              "    <tr>\n",
              "      <th>11689</th>\n",
              "      <td>HIDETSUGU, DEVOURING CHAOS (NEON RED)</td>\n",
              "      <td>RARE</td>\n",
              "      <td>2.0</td>\n",
              "      <td>1000.0</td>\n",
              "      <td>KAMIGAWA NEON DYNASTY</td>\n",
              "      <td>FOIL</td>\n",
              "      <td>ENGLISH</td>\n",
              "      <td>NEAR MINT</td>\n",
              "    </tr>\n",
              "    <tr>\n",
              "      <th>2606</th>\n",
              "      <td>SOL RING</td>\n",
              "      <td>S</td>\n",
              "      <td>6.0</td>\n",
              "      <td>600.0</td>\n",
              "      <td>KALADESH INVENTIONS</td>\n",
              "      <td>FOIL</td>\n",
              "      <td>ENGLISH</td>\n",
              "      <td>NEAR MINT</td>\n",
              "    </tr>\n",
              "    <tr>\n",
              "      <th>5891</th>\n",
              "      <td>PANGLACIAL WURM</td>\n",
              "      <td>RARE</td>\n",
              "      <td>2.0</td>\n",
              "      <td>600.0</td>\n",
              "      <td>COLDSNAP</td>\n",
              "      <td>FOIL</td>\n",
              "      <td>ENGLISH</td>\n",
              "      <td>NEAR MINT</td>\n",
              "    </tr>\n",
              "    <tr>\n",
              "      <th>2592</th>\n",
              "      <td>MANA CRYPT</td>\n",
              "      <td>S</td>\n",
              "      <td>4.0</td>\n",
              "      <td>525.0</td>\n",
              "      <td>KALADESH INVENTIONS</td>\n",
              "      <td>FOIL</td>\n",
              "      <td>ENGLISH</td>\n",
              "      <td>NEAR MINT</td>\n",
              "    </tr>\n",
              "  </tbody>\n",
              "</table>\n",
              "</div>\n",
              "      <button class=\"colab-df-convert\" onclick=\"convertToInteractive('df-2cbdbe0f-018b-4b34-a6e3-cfa678d22d1c')\"\n",
              "              title=\"Convert this dataframe to an interactive table.\"\n",
              "              style=\"display:none;\">\n",
              "        \n",
              "  <svg xmlns=\"http://www.w3.org/2000/svg\" height=\"24px\"viewBox=\"0 0 24 24\"\n",
              "       width=\"24px\">\n",
              "    <path d=\"M0 0h24v24H0V0z\" fill=\"none\"/>\n",
              "    <path d=\"M18.56 5.44l.94 2.06.94-2.06 2.06-.94-2.06-.94-.94-2.06-.94 2.06-2.06.94zm-11 1L8.5 8.5l.94-2.06 2.06-.94-2.06-.94L8.5 2.5l-.94 2.06-2.06.94zm10 10l.94 2.06.94-2.06 2.06-.94-2.06-.94-.94-2.06-.94 2.06-2.06.94z\"/><path d=\"M17.41 7.96l-1.37-1.37c-.4-.4-.92-.59-1.43-.59-.52 0-1.04.2-1.43.59L10.3 9.45l-7.72 7.72c-.78.78-.78 2.05 0 2.83L4 21.41c.39.39.9.59 1.41.59.51 0 1.02-.2 1.41-.59l7.78-7.78 2.81-2.81c.8-.78.8-2.07 0-2.86zM5.41 20L4 18.59l7.72-7.72 1.47 1.35L5.41 20z\"/>\n",
              "  </svg>\n",
              "      </button>\n",
              "      \n",
              "  <style>\n",
              "    .colab-df-container {\n",
              "      display:flex;\n",
              "      flex-wrap:wrap;\n",
              "      gap: 12px;\n",
              "    }\n",
              "\n",
              "    .colab-df-convert {\n",
              "      background-color: #E8F0FE;\n",
              "      border: none;\n",
              "      border-radius: 50%;\n",
              "      cursor: pointer;\n",
              "      display: none;\n",
              "      fill: #1967D2;\n",
              "      height: 32px;\n",
              "      padding: 0 0 0 0;\n",
              "      width: 32px;\n",
              "    }\n",
              "\n",
              "    .colab-df-convert:hover {\n",
              "      background-color: #E2EBFA;\n",
              "      box-shadow: 0px 1px 2px rgba(60, 64, 67, 0.3), 0px 1px 3px 1px rgba(60, 64, 67, 0.15);\n",
              "      fill: #174EA6;\n",
              "    }\n",
              "\n",
              "    [theme=dark] .colab-df-convert {\n",
              "      background-color: #3B4455;\n",
              "      fill: #D2E3FC;\n",
              "    }\n",
              "\n",
              "    [theme=dark] .colab-df-convert:hover {\n",
              "      background-color: #434B5C;\n",
              "      box-shadow: 0px 1px 3px 1px rgba(0, 0, 0, 0.15);\n",
              "      filter: drop-shadow(0px 1px 2px rgba(0, 0, 0, 0.3));\n",
              "      fill: #FFFFFF;\n",
              "    }\n",
              "  </style>\n",
              "\n",
              "      <script>\n",
              "        const buttonEl =\n",
              "          document.querySelector('#df-2cbdbe0f-018b-4b34-a6e3-cfa678d22d1c button.colab-df-convert');\n",
              "        buttonEl.style.display =\n",
              "          google.colab.kernel.accessAllowed ? 'block' : 'none';\n",
              "\n",
              "        async function convertToInteractive(key) {\n",
              "          const element = document.querySelector('#df-2cbdbe0f-018b-4b34-a6e3-cfa678d22d1c');\n",
              "          const dataTable =\n",
              "            await google.colab.kernel.invokeFunction('convertToInteractive',\n",
              "                                                     [key], {});\n",
              "          if (!dataTable) return;\n",
              "\n",
              "          const docLinkHtml = 'Like what you see? Visit the ' +\n",
              "            '<a target=\"_blank\" href=https://colab.research.google.com/notebooks/data_table.ipynb>data table notebook</a>'\n",
              "            + ' to learn more about interactive tables.';\n",
              "          element.innerHTML = '';\n",
              "          dataTable['output_type'] = 'display_data';\n",
              "          await google.colab.output.renderOutput(dataTable, element);\n",
              "          const docLink = document.createElement('div');\n",
              "          docLink.innerHTML = docLinkHtml;\n",
              "          element.appendChild(docLink);\n",
              "        }\n",
              "      </script>\n",
              "    </div>\n",
              "  </div>\n",
              "  "
            ]
          },
          "metadata": {},
          "execution_count": 5
        }
      ]
    },
    {
      "cell_type": "code",
      "source": [
        "sell_df['Condition'] = sell_df['Condition'].str.upper()\n",
        "sell_df['Name'] = sell_df['Name'].str.upper()\n",
        "sell_df['Expansion'] = sell_df['Expansion'].str.upper()\n",
        "sell_df['Language'] = sell_df['Language'].str.upper()\n",
        "sell_df['Finish'] = sell_df['Finish'].str.upper()\n",
        "sell_df['Rarity'] = sell_df['Rarity'].str.upper()\n",
        "\n",
        "sell_df['Condition'] = sell_df['Condition'].str.strip()\n",
        "sell_df['Name'] = sell_df['Name'].str.strip()\n",
        "sell_df['Expansion'] = sell_df['Expansion'].str.strip()\n",
        "sell_df['Language'] = sell_df['Language'].str.strip()\n",
        "sell_df['Finish'] = sell_df['Finish'].str.strip()\n",
        "sell_df['Rarity'] = sell_df['Rarity'].str.strip()\n",
        "\n",
        "sell_df['Name'] = (sell_df['Name'].str.split()).str.join(' ')\n",
        "sell_df['Expansion'] = (sell_df['Expansion'].str.split()).str.join(' ')\n",
        "sell_df['Condition'] = (sell_df['Condition'].str.split()).str.join(' ')\n",
        "sell_df.head()"
      ],
      "metadata": {
        "colab": {
          "base_uri": "https://localhost:8080/",
          "height": 206
        },
        "id": "Nb_0I8O3BVn_",
        "outputId": "6f9f658c-c870-4763-ca8b-2b1dc190c8a3"
      },
      "execution_count": null,
      "outputs": [
        {
          "output_type": "execute_result",
          "data": {
            "text/plain": [
              "              Name    Rarity  Quantity  Price Language  Finish  Condition  \\\n",
              "5   ADARKAR WASTES      RARE       3.0  13.99  ENGLISH  NORMAL  NEAR MINT   \n",
              "6       BLOOD MOON      RARE       2.0  16.99  ENGLISH  NORMAL  NEAR MINT   \n",
              "7  CAVES OF KOILOS      RARE       1.0   1.99  ENGLISH  NORMAL  NEAR MINT   \n",
              "8     DEFENSE GRID      RARE       2.0  21.99  ENGLISH  NORMAL  NEAR MINT   \n",
              "9   DIABOLIC TUTOR  UNCOMMON       1.0   1.29  ENGLISH  NORMAL  NEAR MINT   \n",
              "\n",
              "     Expansion  \n",
              "5  9TH EDITION  \n",
              "6  9TH EDITION  \n",
              "7  9TH EDITION  \n",
              "8  9TH EDITION  \n",
              "9  9TH EDITION  "
            ],
            "text/html": [
              "\n",
              "  <div id=\"df-d1dd242c-9667-42fe-b1db-3c17b705be8b\">\n",
              "    <div class=\"colab-df-container\">\n",
              "      <div>\n",
              "<style scoped>\n",
              "    .dataframe tbody tr th:only-of-type {\n",
              "        vertical-align: middle;\n",
              "    }\n",
              "\n",
              "    .dataframe tbody tr th {\n",
              "        vertical-align: top;\n",
              "    }\n",
              "\n",
              "    .dataframe thead th {\n",
              "        text-align: right;\n",
              "    }\n",
              "</style>\n",
              "<table border=\"1\" class=\"dataframe\">\n",
              "  <thead>\n",
              "    <tr style=\"text-align: right;\">\n",
              "      <th></th>\n",
              "      <th>Name</th>\n",
              "      <th>Rarity</th>\n",
              "      <th>Quantity</th>\n",
              "      <th>Price</th>\n",
              "      <th>Language</th>\n",
              "      <th>Finish</th>\n",
              "      <th>Condition</th>\n",
              "      <th>Expansion</th>\n",
              "    </tr>\n",
              "  </thead>\n",
              "  <tbody>\n",
              "    <tr>\n",
              "      <th>5</th>\n",
              "      <td>ADARKAR WASTES</td>\n",
              "      <td>RARE</td>\n",
              "      <td>3.0</td>\n",
              "      <td>13.99</td>\n",
              "      <td>ENGLISH</td>\n",
              "      <td>NORMAL</td>\n",
              "      <td>NEAR MINT</td>\n",
              "      <td>9TH EDITION</td>\n",
              "    </tr>\n",
              "    <tr>\n",
              "      <th>6</th>\n",
              "      <td>BLOOD MOON</td>\n",
              "      <td>RARE</td>\n",
              "      <td>2.0</td>\n",
              "      <td>16.99</td>\n",
              "      <td>ENGLISH</td>\n",
              "      <td>NORMAL</td>\n",
              "      <td>NEAR MINT</td>\n",
              "      <td>9TH EDITION</td>\n",
              "    </tr>\n",
              "    <tr>\n",
              "      <th>7</th>\n",
              "      <td>CAVES OF KOILOS</td>\n",
              "      <td>RARE</td>\n",
              "      <td>1.0</td>\n",
              "      <td>1.99</td>\n",
              "      <td>ENGLISH</td>\n",
              "      <td>NORMAL</td>\n",
              "      <td>NEAR MINT</td>\n",
              "      <td>9TH EDITION</td>\n",
              "    </tr>\n",
              "    <tr>\n",
              "      <th>8</th>\n",
              "      <td>DEFENSE GRID</td>\n",
              "      <td>RARE</td>\n",
              "      <td>2.0</td>\n",
              "      <td>21.99</td>\n",
              "      <td>ENGLISH</td>\n",
              "      <td>NORMAL</td>\n",
              "      <td>NEAR MINT</td>\n",
              "      <td>9TH EDITION</td>\n",
              "    </tr>\n",
              "    <tr>\n",
              "      <th>9</th>\n",
              "      <td>DIABOLIC TUTOR</td>\n",
              "      <td>UNCOMMON</td>\n",
              "      <td>1.0</td>\n",
              "      <td>1.29</td>\n",
              "      <td>ENGLISH</td>\n",
              "      <td>NORMAL</td>\n",
              "      <td>NEAR MINT</td>\n",
              "      <td>9TH EDITION</td>\n",
              "    </tr>\n",
              "  </tbody>\n",
              "</table>\n",
              "</div>\n",
              "      <button class=\"colab-df-convert\" onclick=\"convertToInteractive('df-d1dd242c-9667-42fe-b1db-3c17b705be8b')\"\n",
              "              title=\"Convert this dataframe to an interactive table.\"\n",
              "              style=\"display:none;\">\n",
              "        \n",
              "  <svg xmlns=\"http://www.w3.org/2000/svg\" height=\"24px\"viewBox=\"0 0 24 24\"\n",
              "       width=\"24px\">\n",
              "    <path d=\"M0 0h24v24H0V0z\" fill=\"none\"/>\n",
              "    <path d=\"M18.56 5.44l.94 2.06.94-2.06 2.06-.94-2.06-.94-.94-2.06-.94 2.06-2.06.94zm-11 1L8.5 8.5l.94-2.06 2.06-.94-2.06-.94L8.5 2.5l-.94 2.06-2.06.94zm10 10l.94 2.06.94-2.06 2.06-.94-2.06-.94-.94-2.06-.94 2.06-2.06.94z\"/><path d=\"M17.41 7.96l-1.37-1.37c-.4-.4-.92-.59-1.43-.59-.52 0-1.04.2-1.43.59L10.3 9.45l-7.72 7.72c-.78.78-.78 2.05 0 2.83L4 21.41c.39.39.9.59 1.41.59.51 0 1.02-.2 1.41-.59l7.78-7.78 2.81-2.81c.8-.78.8-2.07 0-2.86zM5.41 20L4 18.59l7.72-7.72 1.47 1.35L5.41 20z\"/>\n",
              "  </svg>\n",
              "      </button>\n",
              "      \n",
              "  <style>\n",
              "    .colab-df-container {\n",
              "      display:flex;\n",
              "      flex-wrap:wrap;\n",
              "      gap: 12px;\n",
              "    }\n",
              "\n",
              "    .colab-df-convert {\n",
              "      background-color: #E8F0FE;\n",
              "      border: none;\n",
              "      border-radius: 50%;\n",
              "      cursor: pointer;\n",
              "      display: none;\n",
              "      fill: #1967D2;\n",
              "      height: 32px;\n",
              "      padding: 0 0 0 0;\n",
              "      width: 32px;\n",
              "    }\n",
              "\n",
              "    .colab-df-convert:hover {\n",
              "      background-color: #E2EBFA;\n",
              "      box-shadow: 0px 1px 2px rgba(60, 64, 67, 0.3), 0px 1px 3px 1px rgba(60, 64, 67, 0.15);\n",
              "      fill: #174EA6;\n",
              "    }\n",
              "\n",
              "    [theme=dark] .colab-df-convert {\n",
              "      background-color: #3B4455;\n",
              "      fill: #D2E3FC;\n",
              "    }\n",
              "\n",
              "    [theme=dark] .colab-df-convert:hover {\n",
              "      background-color: #434B5C;\n",
              "      box-shadow: 0px 1px 3px 1px rgba(0, 0, 0, 0.15);\n",
              "      filter: drop-shadow(0px 1px 2px rgba(0, 0, 0, 0.3));\n",
              "      fill: #FFFFFF;\n",
              "    }\n",
              "  </style>\n",
              "\n",
              "      <script>\n",
              "        const buttonEl =\n",
              "          document.querySelector('#df-d1dd242c-9667-42fe-b1db-3c17b705be8b button.colab-df-convert');\n",
              "        buttonEl.style.display =\n",
              "          google.colab.kernel.accessAllowed ? 'block' : 'none';\n",
              "\n",
              "        async function convertToInteractive(key) {\n",
              "          const element = document.querySelector('#df-d1dd242c-9667-42fe-b1db-3c17b705be8b');\n",
              "          const dataTable =\n",
              "            await google.colab.kernel.invokeFunction('convertToInteractive',\n",
              "                                                     [key], {});\n",
              "          if (!dataTable) return;\n",
              "\n",
              "          const docLinkHtml = 'Like what you see? Visit the ' +\n",
              "            '<a target=\"_blank\" href=https://colab.research.google.com/notebooks/data_table.ipynb>data table notebook</a>'\n",
              "            + ' to learn more about interactive tables.';\n",
              "          element.innerHTML = '';\n",
              "          dataTable['output_type'] = 'display_data';\n",
              "          await google.colab.output.renderOutput(dataTable, element);\n",
              "          const docLink = document.createElement('div');\n",
              "          docLink.innerHTML = docLinkHtml;\n",
              "          element.appendChild(docLink);\n",
              "        }\n",
              "      </script>\n",
              "    </div>\n",
              "  </div>\n",
              "  "
            ]
          },
          "metadata": {},
          "execution_count": 6
        }
      ]
    },
    {
      "cell_type": "code",
      "source": [
        "#sell_df.to_csv(\"formatted_sell.csv\")\n",
        "#buy_df.to_csv(\"formatted_buy.csv\")"
      ],
      "metadata": {
        "id": "fu0YOHjF8c84"
      },
      "execution_count": null,
      "outputs": []
    },
    {
      "cell_type": "code",
      "source": [
        "buysell_df = sell_df.merge(buy_df, on=['Name', 'Rarity', 'Expansion', 'Condition', 'Language', 'Finish'], how='left', indicator=True)"
      ],
      "metadata": {
        "id": "FW8haaySe9a3"
      },
      "execution_count": null,
      "outputs": []
    },
    {
      "cell_type": "code",
      "source": [
        "buysell_df.head()"
      ],
      "metadata": {
        "colab": {
          "base_uri": "https://localhost:8080/",
          "height": 206
        },
        "id": "62MudEFaCrqI",
        "outputId": "89936877-babc-4842-80d3-37bdcc384d17"
      },
      "execution_count": null,
      "outputs": [
        {
          "output_type": "execute_result",
          "data": {
            "text/plain": [
              "              Name    Rarity  Quantity_x  Price_x Language  Finish  Condition  \\\n",
              "0   ADARKAR WASTES      RARE         3.0    13.99  ENGLISH  NORMAL  NEAR MINT   \n",
              "1       BLOOD MOON      RARE         2.0    16.99  ENGLISH  NORMAL  NEAR MINT   \n",
              "2  CAVES OF KOILOS      RARE         1.0     1.99  ENGLISH  NORMAL  NEAR MINT   \n",
              "3     DEFENSE GRID      RARE         2.0    21.99  ENGLISH  NORMAL  NEAR MINT   \n",
              "4   DIABOLIC TUTOR  UNCOMMON         1.0     1.29  ENGLISH  NORMAL  NEAR MINT   \n",
              "\n",
              "     Expansion  Quantity_y  Price_y     _merge  \n",
              "0  9TH EDITION         1.0     8.00       both  \n",
              "1  9TH EDITION         3.0    10.00       both  \n",
              "2  9TH EDITION         3.0     0.75       both  \n",
              "3  9TH EDITION         NaN      NaN  left_only  \n",
              "4  9TH EDITION         3.0     0.25       both  "
            ],
            "text/html": [
              "\n",
              "  <div id=\"df-9b5e76aa-eab7-4033-a87f-8ae6eb745481\">\n",
              "    <div class=\"colab-df-container\">\n",
              "      <div>\n",
              "<style scoped>\n",
              "    .dataframe tbody tr th:only-of-type {\n",
              "        vertical-align: middle;\n",
              "    }\n",
              "\n",
              "    .dataframe tbody tr th {\n",
              "        vertical-align: top;\n",
              "    }\n",
              "\n",
              "    .dataframe thead th {\n",
              "        text-align: right;\n",
              "    }\n",
              "</style>\n",
              "<table border=\"1\" class=\"dataframe\">\n",
              "  <thead>\n",
              "    <tr style=\"text-align: right;\">\n",
              "      <th></th>\n",
              "      <th>Name</th>\n",
              "      <th>Rarity</th>\n",
              "      <th>Quantity_x</th>\n",
              "      <th>Price_x</th>\n",
              "      <th>Language</th>\n",
              "      <th>Finish</th>\n",
              "      <th>Condition</th>\n",
              "      <th>Expansion</th>\n",
              "      <th>Quantity_y</th>\n",
              "      <th>Price_y</th>\n",
              "      <th>_merge</th>\n",
              "    </tr>\n",
              "  </thead>\n",
              "  <tbody>\n",
              "    <tr>\n",
              "      <th>0</th>\n",
              "      <td>ADARKAR WASTES</td>\n",
              "      <td>RARE</td>\n",
              "      <td>3.0</td>\n",
              "      <td>13.99</td>\n",
              "      <td>ENGLISH</td>\n",
              "      <td>NORMAL</td>\n",
              "      <td>NEAR MINT</td>\n",
              "      <td>9TH EDITION</td>\n",
              "      <td>1.0</td>\n",
              "      <td>8.00</td>\n",
              "      <td>both</td>\n",
              "    </tr>\n",
              "    <tr>\n",
              "      <th>1</th>\n",
              "      <td>BLOOD MOON</td>\n",
              "      <td>RARE</td>\n",
              "      <td>2.0</td>\n",
              "      <td>16.99</td>\n",
              "      <td>ENGLISH</td>\n",
              "      <td>NORMAL</td>\n",
              "      <td>NEAR MINT</td>\n",
              "      <td>9TH EDITION</td>\n",
              "      <td>3.0</td>\n",
              "      <td>10.00</td>\n",
              "      <td>both</td>\n",
              "    </tr>\n",
              "    <tr>\n",
              "      <th>2</th>\n",
              "      <td>CAVES OF KOILOS</td>\n",
              "      <td>RARE</td>\n",
              "      <td>1.0</td>\n",
              "      <td>1.99</td>\n",
              "      <td>ENGLISH</td>\n",
              "      <td>NORMAL</td>\n",
              "      <td>NEAR MINT</td>\n",
              "      <td>9TH EDITION</td>\n",
              "      <td>3.0</td>\n",
              "      <td>0.75</td>\n",
              "      <td>both</td>\n",
              "    </tr>\n",
              "    <tr>\n",
              "      <th>3</th>\n",
              "      <td>DEFENSE GRID</td>\n",
              "      <td>RARE</td>\n",
              "      <td>2.0</td>\n",
              "      <td>21.99</td>\n",
              "      <td>ENGLISH</td>\n",
              "      <td>NORMAL</td>\n",
              "      <td>NEAR MINT</td>\n",
              "      <td>9TH EDITION</td>\n",
              "      <td>NaN</td>\n",
              "      <td>NaN</td>\n",
              "      <td>left_only</td>\n",
              "    </tr>\n",
              "    <tr>\n",
              "      <th>4</th>\n",
              "      <td>DIABOLIC TUTOR</td>\n",
              "      <td>UNCOMMON</td>\n",
              "      <td>1.0</td>\n",
              "      <td>1.29</td>\n",
              "      <td>ENGLISH</td>\n",
              "      <td>NORMAL</td>\n",
              "      <td>NEAR MINT</td>\n",
              "      <td>9TH EDITION</td>\n",
              "      <td>3.0</td>\n",
              "      <td>0.25</td>\n",
              "      <td>both</td>\n",
              "    </tr>\n",
              "  </tbody>\n",
              "</table>\n",
              "</div>\n",
              "      <button class=\"colab-df-convert\" onclick=\"convertToInteractive('df-9b5e76aa-eab7-4033-a87f-8ae6eb745481')\"\n",
              "              title=\"Convert this dataframe to an interactive table.\"\n",
              "              style=\"display:none;\">\n",
              "        \n",
              "  <svg xmlns=\"http://www.w3.org/2000/svg\" height=\"24px\"viewBox=\"0 0 24 24\"\n",
              "       width=\"24px\">\n",
              "    <path d=\"M0 0h24v24H0V0z\" fill=\"none\"/>\n",
              "    <path d=\"M18.56 5.44l.94 2.06.94-2.06 2.06-.94-2.06-.94-.94-2.06-.94 2.06-2.06.94zm-11 1L8.5 8.5l.94-2.06 2.06-.94-2.06-.94L8.5 2.5l-.94 2.06-2.06.94zm10 10l.94 2.06.94-2.06 2.06-.94-2.06-.94-.94-2.06-.94 2.06-2.06.94z\"/><path d=\"M17.41 7.96l-1.37-1.37c-.4-.4-.92-.59-1.43-.59-.52 0-1.04.2-1.43.59L10.3 9.45l-7.72 7.72c-.78.78-.78 2.05 0 2.83L4 21.41c.39.39.9.59 1.41.59.51 0 1.02-.2 1.41-.59l7.78-7.78 2.81-2.81c.8-.78.8-2.07 0-2.86zM5.41 20L4 18.59l7.72-7.72 1.47 1.35L5.41 20z\"/>\n",
              "  </svg>\n",
              "      </button>\n",
              "      \n",
              "  <style>\n",
              "    .colab-df-container {\n",
              "      display:flex;\n",
              "      flex-wrap:wrap;\n",
              "      gap: 12px;\n",
              "    }\n",
              "\n",
              "    .colab-df-convert {\n",
              "      background-color: #E8F0FE;\n",
              "      border: none;\n",
              "      border-radius: 50%;\n",
              "      cursor: pointer;\n",
              "      display: none;\n",
              "      fill: #1967D2;\n",
              "      height: 32px;\n",
              "      padding: 0 0 0 0;\n",
              "      width: 32px;\n",
              "    }\n",
              "\n",
              "    .colab-df-convert:hover {\n",
              "      background-color: #E2EBFA;\n",
              "      box-shadow: 0px 1px 2px rgba(60, 64, 67, 0.3), 0px 1px 3px 1px rgba(60, 64, 67, 0.15);\n",
              "      fill: #174EA6;\n",
              "    }\n",
              "\n",
              "    [theme=dark] .colab-df-convert {\n",
              "      background-color: #3B4455;\n",
              "      fill: #D2E3FC;\n",
              "    }\n",
              "\n",
              "    [theme=dark] .colab-df-convert:hover {\n",
              "      background-color: #434B5C;\n",
              "      box-shadow: 0px 1px 3px 1px rgba(0, 0, 0, 0.15);\n",
              "      filter: drop-shadow(0px 1px 2px rgba(0, 0, 0, 0.3));\n",
              "      fill: #FFFFFF;\n",
              "    }\n",
              "  </style>\n",
              "\n",
              "      <script>\n",
              "        const buttonEl =\n",
              "          document.querySelector('#df-9b5e76aa-eab7-4033-a87f-8ae6eb745481 button.colab-df-convert');\n",
              "        buttonEl.style.display =\n",
              "          google.colab.kernel.accessAllowed ? 'block' : 'none';\n",
              "\n",
              "        async function convertToInteractive(key) {\n",
              "          const element = document.querySelector('#df-9b5e76aa-eab7-4033-a87f-8ae6eb745481');\n",
              "          const dataTable =\n",
              "            await google.colab.kernel.invokeFunction('convertToInteractive',\n",
              "                                                     [key], {});\n",
              "          if (!dataTable) return;\n",
              "\n",
              "          const docLinkHtml = 'Like what you see? Visit the ' +\n",
              "            '<a target=\"_blank\" href=https://colab.research.google.com/notebooks/data_table.ipynb>data table notebook</a>'\n",
              "            + ' to learn more about interactive tables.';\n",
              "          element.innerHTML = '';\n",
              "          dataTable['output_type'] = 'display_data';\n",
              "          await google.colab.output.renderOutput(dataTable, element);\n",
              "          const docLink = document.createElement('div');\n",
              "          docLink.innerHTML = docLinkHtml;\n",
              "          element.appendChild(docLink);\n",
              "        }\n",
              "      </script>\n",
              "    </div>\n",
              "  </div>\n",
              "  "
            ]
          },
          "metadata": {},
          "execution_count": 9
        }
      ]
    },
    {
      "cell_type": "code",
      "source": [
        "buysell_df[\"_merge\"].value_counts()"
      ],
      "metadata": {
        "colab": {
          "base_uri": "https://localhost:8080/"
        },
        "id": "U2u-7wNhfWOZ",
        "outputId": "e7c431fa-83bf-47ee-c17a-62eb723f2d96"
      },
      "execution_count": null,
      "outputs": [
        {
          "output_type": "execute_result",
          "data": {
            "text/plain": [
              "left_only     3809\n",
              "both          2771\n",
              "right_only       0\n",
              "Name: _merge, dtype: int64"
            ]
          },
          "metadata": {},
          "execution_count": 10
        }
      ]
    },
    {
      "cell_type": "markdown",
      "source": [
        "# Visualizations\n",
        "\n",
        "The main purpose of this assignment is to practice creating various visualizations using the matplotlib and seaborn library.\n",
        "\n",
        "### **Part 1:**\n",
        "Using matplotlib, create ***two or more plots*** that incorporate at least **5** of the following properties:\n",
        "\n",
        "Note: these properties vary based on your data.  The goal is to practice creating visualizations and modifying its properties. \n",
        "\n",
        "*   Use and change a legend position\n",
        "*   Change a legend font size\n",
        "*   Place a legend outside of the plot\n",
        "*   Create a single legend for all subplots\n",
        "*   Change the title and x/y labels\n",
        "*   Change the marker, line colors, and line width\n",
        "*   Add annotations\n",
        "*   Modify Axis Text Ticks/Labels\n",
        "*   Change size of axis Labels\n",
        "*   Your own choice not included above \n",
        "\n",
        "\n",
        "Plots that you can create **include**:\n",
        "\n",
        "*   Scatter Plot\n",
        "*   Bar plot\n",
        "*   Line Chart\n",
        "*   Multi Plots (e.g. using .subplot()\n",
        "*   Histogram\n",
        "\n",
        "You can add another plot not listed here if it works better for your data.  This is not a complete list of plots to create.\n",
        "\n",
        "### **Part 2:**\n",
        "\n",
        "Recreate the visualizations above using the Seaborn library as best as possible.  \n",
        "\n",
        "\n",
        "**You are required to explain what each of your plots is representing. Plots without comments will not be accepted.**  In addition, please explain the properties you are showcasing.\n",
        "\n",
        "\n",
        "### **Part 3:**\n",
        "In a comment or text box, explain the differences between creating a plot in matplotlib and seaborn, based on your above plots.\n",
        "\n"
      ],
      "metadata": {
        "id": "uJdF3TMe_TXU"
      }
    },
    {
      "cell_type": "markdown",
      "source": [
        "**Part 1:**"
      ],
      "metadata": {
        "id": "vxSJFqNk5BW5"
      }
    },
    {
      "cell_type": "markdown",
      "source": [
        "First plot:  Let's creat as scatterplot that allows us to visualize the relationship between the online retailer's buylist and retail prices."
      ],
      "metadata": {
        "id": "DcTLIlGaG4xb"
      }
    },
    {
      "cell_type": "code",
      "source": [
        "import matplotlib.pyplot as plt\n",
        "plt.scatter(buysell_df.Price_x[buysell_df.Price_x < 400], buysell_df.Price_y[buysell_df.Price_x < 400])\n",
        "plt.show()"
      ],
      "metadata": {
        "colab": {
          "base_uri": "https://localhost:8080/",
          "height": 265
        },
        "id": "fhgAzIcJ47D9",
        "outputId": "6f139944-6a0a-4a7e-923b-a1c98ae2b952"
      },
      "execution_count": null,
      "outputs": [
        {
          "output_type": "display_data",
          "data": {
            "text/plain": [
              "<Figure size 432x288 with 1 Axes>"
            ],
            "image/png": "[encoded data removed]"
          },
          "metadata": {
            "needs_background": "light"
          }
        }
      ]
    },
    {
      "cell_type": "markdown",
      "source": [
        "That looks pretty interesting but before we analyze and interpret the relationship, we need to add some text to this graph to make it more accessible.\n",
        "\n",
        "Let's start with a title."
      ],
      "metadata": {
        "id": "kunFTlnvHV8D"
      }
    },
    {
      "cell_type": "code",
      "source": [
        "plt.scatter(buysell_df.Price_x[buysell_df.Price_x < 400], buysell_df.Price_y[buysell_df.Price_x < 400])\n",
        "plt.title(\"Online Retailer Price Relationship\")\n",
        "plt.show()"
      ],
      "metadata": {
        "colab": {
          "base_uri": "https://localhost:8080/",
          "height": 281
        },
        "id": "KYOLOApTHovy",
        "outputId": "933a191b-4848-49ad-b278-cd051c316e48"
      },
      "execution_count": null,
      "outputs": [
        {
          "output_type": "display_data",
          "data": {
            "text/plain": [
              "<Figure size 432x288 with 1 Axes>"
            ],
            "image/png": "[encoded data removed]"
          },
          "metadata": {
            "needs_background": "light"
          }
        }
      ]
    },
    {
      "cell_type": "markdown",
      "source": [
        "That's a good start.  Let's play around with the Legend alignment."
      ],
      "metadata": {
        "id": "jMBocM2_IZOk"
      }
    },
    {
      "cell_type": "code",
      "source": [
        "plt.scatter(buysell_df.Price_x[buysell_df.Price_x < 400], buysell_df.Price_y[buysell_df.Price_x < 400])\n",
        "plt.title(\"Online Retailer Price Relationship\", loc='left')\n",
        "plt.show()"
      ],
      "metadata": {
        "colab": {
          "base_uri": "https://localhost:8080/",
          "height": 281
        },
        "id": "aK-nYjMKIhvH",
        "outputId": "8e2f6f93-8256-4717-da4e-16e9937bc946"
      },
      "execution_count": null,
      "outputs": [
        {
          "output_type": "display_data",
          "data": {
            "text/plain": [
              "<Figure size 432x288 with 1 Axes>"
            ],
            "image/png": "[encoded data removed]"
          },
          "metadata": {
            "needs_background": "light"
          }
        }
      ]
    },
    {
      "cell_type": "markdown",
      "source": [
        "Now, let's make the legend bigger.\n",
        "\n",
        "Just a comment here, I started getting an error \"'str' object is not callable'\" for the plt.title() function and had to restart the kernel to solve it."
      ],
      "metadata": {
        "id": "UuId_5_PJBKn"
      }
    },
    {
      "cell_type": "code",
      "source": [
        "plt.scatter(buysell_df.Price_x[buysell_df.Price_x < 400], buysell_df.Price_y[buysell_df.Price_x < 400])\n",
        "plt.title(\"Online Retailer Price Relationship\", loc='left', fontsize=18)\n",
        "plt.show()"
      ],
      "metadata": {
        "colab": {
          "base_uri": "https://localhost:8080/",
          "height": 285
        },
        "id": "TUSRTF1EJL_b",
        "outputId": "73453ed3-dd9b-41c3-ec3c-075ef919e397"
      },
      "execution_count": null,
      "outputs": [
        {
          "output_type": "display_data",
          "data": {
            "text/plain": [
              "<Figure size 432x288 with 1 Axes>"
            ],
            "image/png": "[encoded data removed]"
          },
          "metadata": {
            "needs_background": "light"
          }
        }
      ]
    },
    {
      "cell_type": "markdown",
      "source": [
        "Next, we need axis labels."
      ],
      "metadata": {
        "id": "Bxb_CI9SM0WT"
      }
    },
    {
      "cell_type": "code",
      "source": [
        "plt.scatter(buysell_df.Price_x[buysell_df.Price_x < 400], buysell_df.Price_y[buysell_df.Price_x < 400])\n",
        "plt.title(\"Online Retailer Price Relationship\", loc='left', fontsize=18)\n",
        "plt.xlabel(\"Retail Prices\")\n",
        "plt.ylabel(\"Buylist Prices\")\n",
        "plt.show()"
      ],
      "metadata": {
        "colab": {
          "base_uri": "https://localhost:8080/",
          "height": 299
        },
        "id": "3u5N2JCAM6EH",
        "outputId": "53314e0c-acc6-461c-e828-635eebe1ec22"
      },
      "execution_count": null,
      "outputs": [
        {
          "output_type": "display_data",
          "data": {
            "text/plain": [
              "<Figure size 432x288 with 1 Axes>"
            ],
            "image/png": "[encoded data removed]"
          },
          "metadata": {
            "needs_background": "light"
          }
        }
      ]
    },
    {
      "cell_type": "markdown",
      "source": [
        "Those axis labels could be a little bigger."
      ],
      "metadata": {
        "id": "JvWf28vBNXfT"
      }
    },
    {
      "cell_type": "code",
      "source": [
        "plt.scatter(buysell_df.Price_x[buysell_df.Price_x < 400], buysell_df.Price_y[buysell_df.Price_x < 400])\n",
        "plt.title(\"Online Retailer Price Relationship\", loc='left', fontsize=18)\n",
        "plt.xlabel(\"Retail Prices\", fontsize=12)\n",
        "plt.ylabel(\"Buylist Prices\", fontsize=12)\n",
        "plt.show()"
      ],
      "metadata": {
        "colab": {
          "base_uri": "https://localhost:8080/",
          "height": 302
        },
        "id": "6VtYtlnBNe0P",
        "outputId": "5f6a4bca-8c11-4ac0-8618-2c356470b4b0"
      },
      "execution_count": null,
      "outputs": [
        {
          "output_type": "display_data",
          "data": {
            "text/plain": [
              "<Figure size 432x288 with 1 Axes>"
            ],
            "image/png": "[encoded data removed]"
          },
          "metadata": {
            "needs_background": "light"
          }
        }
      ]
    },
    {
      "cell_type": "markdown",
      "source": [
        "It's difficult to see what is going on at the lower prices.  We should adjust the transparency of the points to better overlapping points."
      ],
      "metadata": {
        "id": "BSUClv8yOMUH"
      }
    },
    {
      "cell_type": "code",
      "source": [
        "plt.scatter(buysell_df.Price_x[buysell_df.Price_x < 400], buysell_df.Price_y[buysell_df.Price_x < 400], alpha=0.2)\n",
        "plt.title(\"Online Retailer Price Relationship\", loc='left', fontsize=18)\n",
        "plt.xlabel(\"Retail Prices\", fontsize=12)\n",
        "plt.ylabel(\"Buylist Prices\", fontsize=12)\n",
        "plt.show()"
      ],
      "metadata": {
        "colab": {
          "base_uri": "https://localhost:8080/",
          "height": 302
        },
        "id": "s7vmO1bZOJ-A",
        "outputId": "1ec5a038-9718-4548-8fba-89ef7840d4d7"
      },
      "execution_count": null,
      "outputs": [
        {
          "output_type": "display_data",
          "data": {
            "text/plain": [
              "<Figure size 432x288 with 1 Axes>"
            ],
            "image/png": "[encoded data removed]"
          },
          "metadata": {
            "needs_background": "light"
          }
        }
      ]
    },
    {
      "cell_type": "markdown",
      "source": [
        "Let's change the marker color to red."
      ],
      "metadata": {
        "id": "nBGZnfqaP9Q5"
      }
    },
    {
      "cell_type": "code",
      "source": [
        "plt.scatter(buysell_df.Price_x[buysell_df.Price_x < 400], buysell_df.Price_y[buysell_df.Price_x < 400], alpha=0.2, color='red')\n",
        "plt.title(\"Online Retailer Price Relationship\", loc='left', fontsize=18)\n",
        "plt.xlabel(\"Retail Prices\", fontsize=12)\n",
        "plt.ylabel(\"Buylist Prices\", fontsize=12)\n",
        "plt.show()"
      ],
      "metadata": {
        "colab": {
          "base_uri": "https://localhost:8080/",
          "height": 302
        },
        "id": "wvvSS8XUQDSX",
        "outputId": "fb838e90-ac0e-4e95-87e8-1add195468b8"
      },
      "execution_count": null,
      "outputs": [
        {
          "output_type": "display_data",
          "data": {
            "text/plain": [
              "<Figure size 432x288 with 1 Axes>"
            ],
            "image/png": "[encoded data removed]"
          },
          "metadata": {
            "needs_background": "light"
          }
        }
      ]
    },
    {
      "cell_type": "markdown",
      "source": [
        "Lastly, we need to add some annotation.  Someone wouldn't know just by looking at this plot that we have limited the data to buylist prices less than $400."
      ],
      "metadata": {
        "id": "S9zAd3vJQSZ1"
      }
    },
    {
      "cell_type": "code",
      "source": [
        "plt.scatter(buysell_df.Price_x[buysell_df.Price_x < 400], buysell_df.Price_y[buysell_df.Price_x < 400], alpha=0.2, color='red')\n",
        "plt.title(\"Online Retailer Price Relationship\", loc='left', fontsize=18)\n",
        "plt.xlabel(\"Retail Prices\", fontsize=12)\n",
        "plt.ylabel(\"Buylist Prices\", fontsize=12)\n",
        "plt.annotate(\"Buylist prices limited to <$400\", (150, 0))\n",
        "plt.show()"
      ],
      "metadata": {
        "colab": {
          "base_uri": "https://localhost:8080/",
          "height": 302
        },
        "id": "GxT742feQkKb",
        "outputId": "f940dad5-b9ea-4be3-b293-e55939b2c64f"
      },
      "execution_count": null,
      "outputs": [
        {
          "output_type": "display_data",
          "data": {
            "text/plain": [
              "<Figure size 432x288 with 1 Axes>"
            ],
            "image/png": "[encoded data removed]"
          },
          "metadata": {
            "needs_background": "light"
          }
        }
      ]
    },
    {
      "cell_type": "markdown",
      "source": [
        "Just for fun, let's build a linear model from the retail and buylist prices."
      ],
      "metadata": {
        "id": "U47P1WUIRgjg"
      }
    },
    {
      "cell_type": "code",
      "source": [
        "import numpy as np\n",
        "from sklearn.linear_model import LinearRegression\n",
        "model = LinearRegression()\n",
        "buysell_df_no_missing = buysell_df.dropna(subset=['Price_y'])\n",
        "x = np.array(buysell_df_no_missing.Price_x[buysell_df.Price_x < 400]).reshape((-1, 1))\n",
        "y = np.array(buysell_df_no_missing.Price_y[buysell_df.Price_x < 400]) #\n",
        "model.fit(x, y)"
      ],
      "metadata": {
        "colab": {
          "base_uri": "https://localhost:8080/"
        },
        "id": "NbVjyYHaJ49s",
        "outputId": "a3ecddf6-71ce-4d4a-b5fa-661ecab9b088"
      },
      "execution_count": null,
      "outputs": [
        {
          "output_type": "execute_result",
          "data": {
            "text/plain": [
              "LinearRegression()"
            ]
          },
          "metadata": {},
          "execution_count": 20
        }
      ]
    },
    {
      "cell_type": "markdown",
      "source": [
        "The R-squared is 0.97 meaning that 97% of the variation in the buylist prices can be explained by the retail price."
      ],
      "metadata": {
        "id": "AT9hm1NJRwiR"
      }
    },
    {
      "cell_type": "code",
      "source": [
        "r_sq = model.score(x, y)\n",
        "print('coefficient of determination:', r_sq)"
      ],
      "metadata": {
        "colab": {
          "base_uri": "https://localhost:8080/"
        },
        "id": "0_Cn0yPVNIKs",
        "outputId": "1613a210-c79b-4fdb-9f1f-1e5764b39edf"
      },
      "execution_count": null,
      "outputs": [
        {
          "output_type": "stream",
          "name": "stdout",
          "text": [
            "coefficient of determination: 0.9686414935268941\n"
          ]
        }
      ]
    },
    {
      "cell_type": "code",
      "source": [
        "print('intercept:', model.intercept_)"
      ],
      "metadata": {
        "colab": {
          "base_uri": "https://localhost:8080/"
        },
        "id": "QrLhRoC3NPZn",
        "outputId": "e887d870-25fa-4e09-9634-75d519585792"
      },
      "execution_count": null,
      "outputs": [
        {
          "output_type": "stream",
          "name": "stdout",
          "text": [
            "intercept: -0.39823210439449497\n"
          ]
        }
      ]
    },
    {
      "cell_type": "markdown",
      "source": [
        "We can put the model slope into words.  For every \\$1 that a card sells for retail, the store will give you $0.56."
      ],
      "metadata": {
        "id": "U1bCWVGsSV9c"
      }
    },
    {
      "cell_type": "code",
      "source": [
        "print('slope:', model.coef_)"
      ],
      "metadata": {
        "colab": {
          "base_uri": "https://localhost:8080/"
        },
        "id": "rRZXZ9mwNlq0",
        "outputId": "1c0b454f-0ebd-4b8c-e81f-094d24832f3b"
      },
      "execution_count": null,
      "outputs": [
        {
          "output_type": "stream",
          "name": "stdout",
          "text": [
            "slope: [0.56152767]\n"
          ]
        }
      ]
    },
    {
      "cell_type": "markdown",
      "source": [
        "For our second graph we have grouped the cards on the retail list by rarity and calculated what percentage of them are found on the buylist."
      ],
      "metadata": {
        "id": "u-OAesmAS48M"
      }
    },
    {
      "cell_type": "code",
      "metadata": {
        "id": "4VWWvvynEiQT",
        "colab": {
          "base_uri": "https://localhost:8080/"
        },
        "outputId": "eb7d80ab-dd80-4d64-c3ef-873fd1cb13e4"
      },
      "source": [
        "buysell_df['in_both'] = buysell_df['_merge'] == 'both'\n",
        "buysell_df['left_only'] = buysell_df['_merge'] == 'left_only'\n",
        "buysell_df.groupby(['Rarity'])['in_both'].mean().sort_values()"
      ],
      "execution_count": null,
      "outputs": [
        {
          "output_type": "execute_result",
          "data": {
            "text/plain": [
              "Rarity\n",
              "COMMON      0.140197\n",
              "UNCOMMON    0.261026\n",
              "LAND        0.428571\n",
              "S           0.440000\n",
              "RARE        0.470453\n",
              "MYTHIC      0.635294\n",
              "Name: in_both, dtype: float64"
            ]
          },
          "metadata": {},
          "execution_count": 24
        }
      ]
    },
    {
      "cell_type": "code",
      "source": [
        "buysell_df = buysell_df.astype({'in_both':'float', 'left_only':'float'})\n",
        "#plt.hist(buysell_df..groupby(['Rarity'])['in_both'].value_counts())"
      ],
      "metadata": {
        "id": "N9sKmrIrDbhd"
      },
      "execution_count": null,
      "outputs": []
    },
    {
      "cell_type": "markdown",
      "source": [
        "We are going to remove the Rarity levels 'Land' and 'S' because their exact meanings ambigious."
      ],
      "metadata": {
        "id": "plO8__h_ZHh6"
      }
    },
    {
      "cell_type": "code",
      "source": [
        "bar_values = buysell_df.groupby(['Rarity'], as_index=False)['in_both'].mean()\n",
        "bar_values = bar_values[bar_values.Rarity.isin(['S', 'LAND']) == False]\n",
        "print(bar_values)"
      ],
      "metadata": {
        "colab": {
          "base_uri": "https://localhost:8080/"
        },
        "id": "NR3VbqlWG0So",
        "outputId": "5ad9f514-1fd9-48d5-f0bd-ae98b42a8b18"
      },
      "execution_count": null,
      "outputs": [
        {
          "output_type": "stream",
          "name": "stdout",
          "text": [
            "     Rarity   in_both\n",
            "0    COMMON  0.140197\n",
            "2    MYTHIC  0.635294\n",
            "3      RARE  0.470453\n",
            "5  UNCOMMON  0.261026\n"
          ]
        }
      ]
    },
    {
      "cell_type": "markdown",
      "source": [
        "Here we have a bar chart showing the percentage of cards at each rarity that this online retailer is willing to purchase.  Interestingly, we don't need the plt.show() function to get our bar chart to show.  Interesting..."
      ],
      "metadata": {
        "id": "re3jTWS_emjN"
      }
    },
    {
      "cell_type": "code",
      "source": [
        "plt.bar(bar_values.Rarity, bar_values.in_both)"
      ],
      "metadata": {
        "colab": {
          "base_uri": "https://localhost:8080/",
          "height": 283
        },
        "id": "tHqM0iDWTgQy",
        "outputId": "ae509d7f-19da-44a9-a998-a7dc5c012326"
      },
      "execution_count": null,
      "outputs": [
        {
          "output_type": "execute_result",
          "data": {
            "text/plain": [
              "<BarContainer object of 4 artists>"
            ]
          },
          "metadata": {},
          "execution_count": 27
        },
        {
          "output_type": "display_data",
          "data": {
            "text/plain": [
              "<Figure size 432x288 with 1 Axes>"
            ],
            "image/png": "[encoded data removed]"
          },
          "metadata": {
            "needs_background": "light"
          }
        }
      ]
    },
    {
      "cell_type": "markdown",
      "source": [
        "Lets add a title and axis label to our bar chart.  This is a little trickier than a scatter plot and I'm not sure why?  We have to create our bar chart as a subplot and then add the title and labels."
      ],
      "metadata": {
        "id": "zxWlFGqHeGW-"
      }
    },
    {
      "cell_type": "code",
      "source": [
        "\n",
        "fig, ax = plt.subplots()\n",
        "ax.bar(bar_values.Rarity, bar_values.in_both)\n",
        "ax.set_title('Buylist Coverage')\n",
        "plt.show()"
      ],
      "metadata": {
        "colab": {
          "base_uri": "https://localhost:8080/",
          "height": 281
        },
        "id": "tAhUob3pJvr3",
        "outputId": "f53681fa-9266-4c86-d40d-5750298b85a1"
      },
      "execution_count": null,
      "outputs": [
        {
          "output_type": "display_data",
          "data": {
            "text/plain": [
              "<Figure size 432x288 with 1 Axes>"
            ],
            "image/png": "[encoded data removed]"
          },
          "metadata": {
            "needs_background": "light"
          }
        }
      ]
    },
    {
      "cell_type": "markdown",
      "source": [
        "Let's try moving the title."
      ],
      "metadata": {
        "id": "E-1vwFRifxKN"
      }
    },
    {
      "cell_type": "code",
      "source": [
        "fig, ax = plt.subplots()\n",
        "ax.bar(bar_values.Rarity, bar_values.in_both)\n",
        "ax.set_title('Buylist Coverage', loc=\"left\")\n",
        "plt.show()"
      ],
      "metadata": {
        "colab": {
          "base_uri": "https://localhost:8080/",
          "height": 281
        },
        "id": "_Hm-4qBLf0xz",
        "outputId": "8fc859cc-250d-4cfa-b3d2-56c8fc0127ef"
      },
      "execution_count": null,
      "outputs": [
        {
          "output_type": "display_data",
          "data": {
            "text/plain": [
              "<Figure size 432x288 with 1 Axes>"
            ],
            "image/png": "[encoded data removed]"
          },
          "metadata": {
            "needs_background": "light"
          }
        }
      ]
    },
    {
      "cell_type": "markdown",
      "source": [
        "I like that better.  Now Lets make the font bigger."
      ],
      "metadata": {
        "id": "s11VSncxgBTP"
      }
    },
    {
      "cell_type": "code",
      "source": [
        "fig, ax = plt.subplots()\n",
        "ax.bar(bar_values.Rarity, bar_values.in_both)\n",
        "ax.set_title('Buylist Coverage', loc=\"left\", fontsize=18)\n",
        "plt.show()"
      ],
      "metadata": {
        "colab": {
          "base_uri": "https://localhost:8080/",
          "height": 285
        },
        "id": "I1c9MBpzgId1",
        "outputId": "a68207f7-9cc5-4a92-af10-6bc7c8663201"
      },
      "execution_count": null,
      "outputs": [
        {
          "output_type": "display_data",
          "data": {
            "text/plain": [
              "<Figure size 432x288 with 1 Axes>"
            ],
            "image/png": "[encoded data removed]"
          },
          "metadata": {
            "needs_background": "light"
          }
        }
      ]
    },
    {
      "cell_type": "markdown",
      "source": [
        "Next lets add some labels to our bar chart."
      ],
      "metadata": {
        "id": "6JDrEzF9fgWq"
      }
    },
    {
      "cell_type": "code",
      "source": [
        "fig, ax = plt.subplots()\n",
        "ax.bar(bar_values.Rarity, bar_values.in_both)\n",
        "ax.set_title('Buylist Coverage')\n",
        "ax.set_ylabel('% Cards on Buylist')\n",
        "ax.set_xlabel('Card Rarity')\n",
        "plt.show()"
      ],
      "metadata": {
        "colab": {
          "base_uri": "https://localhost:8080/",
          "height": 295
        },
        "id": "fu4Wo1XLfquH",
        "outputId": "172dd59f-97d8-441e-844b-99604f859a95"
      },
      "execution_count": null,
      "outputs": [
        {
          "output_type": "display_data",
          "data": {
            "text/plain": [
              "<Figure size 432x288 with 1 Axes>"
            ],
            "image/png": "[encoded data removed]"
          },
          "metadata": {
            "needs_background": "light"
          }
        }
      ]
    },
    {
      "cell_type": "markdown",
      "source": [
        "We need to increase the size of our labels.  They are hard to read."
      ],
      "metadata": {
        "id": "JKw96JoEtvT7"
      }
    },
    {
      "cell_type": "code",
      "source": [
        "fig, ax = plt.subplots()\n",
        "ax.bar(bar_values.Rarity, bar_values.in_both)\n",
        "ax.set_title('Buylist Coverage', loc=\"left\", fontsize=18)\n",
        "ax.set_ylabel('% Cards on Buylist', fontsize=12)\n",
        "ax.set_xlabel('Card Rarity', fontsize=12)\n",
        "plt.show()"
      ],
      "metadata": {
        "colab": {
          "base_uri": "https://localhost:8080/",
          "height": 302
        },
        "id": "kwXrniHWuNyC",
        "outputId": "896eac9a-99f9-4c14-c947-a7133cfad8ec"
      },
      "execution_count": null,
      "outputs": [
        {
          "output_type": "display_data",
          "data": {
            "text/plain": [
              "<Figure size 432x288 with 1 Axes>"
            ],
            "image/png": "[encoded data removed]"
          },
          "metadata": {
            "needs_background": "light"
          }
        }
      ]
    },
    {
      "cell_type": "markdown",
      "source": [
        "Let's change the color of our bars to green."
      ],
      "metadata": {
        "id": "0rQFF5F3ufHb"
      }
    },
    {
      "cell_type": "code",
      "source": [
        "fig, ax = plt.subplots()\n",
        "ax.bar(bar_values.Rarity, bar_values.in_both, color='green')\n",
        "ax.set_title('Buylist Coverage', loc=\"left\", fontsize=18)\n",
        "ax.set_ylabel('% Cards on Buylist', fontsize=12)\n",
        "ax.set_xlabel('Card Rarity', fontsize=12)\n",
        "plt.show()"
      ],
      "metadata": {
        "colab": {
          "base_uri": "https://localhost:8080/",
          "height": 302
        },
        "id": "I_PithBfujxi",
        "outputId": "8d767d6f-37a6-43ed-9c65-4dc50da11b6b"
      },
      "execution_count": null,
      "outputs": [
        {
          "output_type": "display_data",
          "data": {
            "text/plain": [
              "<Figure size 432x288 with 1 Axes>"
            ],
            "image/png": "[encoded data removed]"
          },
          "metadata": {
            "needs_background": "light"
          }
        }
      ]
    },
    {
      "cell_type": "markdown",
      "source": [
        "I don't like the order of the card rarities.  They are in a non-intuitive order."
      ],
      "metadata": {
        "id": "-QNuYnf6mkP0"
      }
    },
    {
      "cell_type": "code",
      "source": [
        "bar_values = bar_values.sort_values(\"in_both\")\n",
        "\n",
        "fig, ax = plt.subplots()\n",
        "ax.bar(bar_values.Rarity, bar_values.in_both, color='green')\n",
        "ax.set_title('Buylist Coverage')\n",
        "ax.set_ylabel('% Cards on Buylist')\n",
        "ax.set_xlabel('Card Rarity')\n",
        "plt.show()"
      ],
      "metadata": {
        "colab": {
          "base_uri": "https://localhost:8080/",
          "height": 295
        },
        "id": "AsXOp10vtmme",
        "outputId": "c9058f21-d729-41a6-859b-367618d86984"
      },
      "execution_count": null,
      "outputs": [
        {
          "output_type": "display_data",
          "data": {
            "text/plain": [
              "<Figure size 432x288 with 1 Axes>"
            ],
            "image/png": "[encoded data removed]"
          },
          "metadata": {
            "needs_background": "light"
          }
        }
      ]
    },
    {
      "cell_type": "markdown",
      "source": [
        "We can see that the scarcer the card the more likely the the retailer is to want to purchase it.  That makes sense."
      ],
      "metadata": {
        "id": "MSBHn84Fu1-k"
      }
    },
    {
      "cell_type": "markdown",
      "source": [
        "Part 2"
      ],
      "metadata": {
        "id": "xp4jOwrREKi9"
      }
    },
    {
      "cell_type": "markdown",
      "source": [
        "Now let's recreate these plots in Seaborn!\n",
        "\n",
        "As a reminder, the first plot we are creating is a scatter plot of an online retailers retail prices vs buylist prices."
      ],
      "metadata": {
        "id": "Vq5vE-yAESBN"
      }
    },
    {
      "cell_type": "code",
      "source": [
        "import seaborn as sns\n",
        "sns.scatterplot(x=buysell_df.Price_x[buysell_df.Price_x < 400], y=buysell_df.Price_y[buysell_df.Price_x < 400])\n",
        "plt.show()"
      ],
      "metadata": {
        "colab": {
          "base_uri": "https://localhost:8080/",
          "height": 280
        },
        "id": "wG0v-6h6xoqk",
        "outputId": "4ef23d62-18c5-4f36-e557-ff132c204ce0"
      },
      "execution_count": null,
      "outputs": [
        {
          "output_type": "display_data",
          "data": {
            "text/plain": [
              "<Figure size 432x288 with 1 Axes>"
            ],
            "image/png": "[encoded data removed]"
          },
          "metadata": {
            "needs_background": "light"
          }
        }
      ]
    },
    {
      "cell_type": "markdown",
      "source": [
        "I like the white outlines aroung the points.  \n",
        "\n",
        "Lets add a title. We can use the set() method create a title"
      ],
      "metadata": {
        "id": "YLc5nMuUzknh"
      }
    },
    {
      "cell_type": "code",
      "source": [
        "sns.scatterplot(x=buysell_df.Price_x[buysell_df.Price_x < 400], y=buysell_df.Price_y[buysell_df.Price_x < 400]).set(title=\"Online Retailer Price Relationship\")\n",
        "plt.show()"
      ],
      "metadata": {
        "colab": {
          "base_uri": "https://localhost:8080/",
          "height": 296
        },
        "id": "b0CO6yyxzwjQ",
        "outputId": "6ce74de2-807e-4b7f-ec80-c516ccb95277"
      },
      "execution_count": null,
      "outputs": [
        {
          "output_type": "display_data",
          "data": {
            "text/plain": [
              "<Figure size 432x288 with 1 Axes>"
            ],
            "image/png": "[encoded data removed]"
          },
          "metadata": {
            "needs_background": "light"
          }
        }
      ]
    },
    {
      "cell_type": "markdown",
      "source": [
        "That's a good first step, let's move the title to the left.\n",
        "\n",
        "I found it easier to use the plt.title() function rather than the set() method to manipulate the title"
      ],
      "metadata": {
        "id": "aLG2eZ5S2do9"
      }
    },
    {
      "cell_type": "code",
      "source": [
        "sns.relplot(x=buysell_df.Price_x[buysell_df.Price_x < 400], y=buysell_df.Price_y[buysell_df.Price_x < 400])\n",
        "plt.title(\"Online Retailer Price Relationship\", loc=\"left\")\n",
        "plt.show()"
      ],
      "metadata": {
        "colab": {
          "base_uri": "https://localhost:8080/",
          "height": 386
        },
        "id": "GXTBtI9k2kVj",
        "outputId": "1e1ba6f7-0d0b-4bc9-ecfe-61811094f382"
      },
      "execution_count": null,
      "outputs": [
        {
          "output_type": "display_data",
          "data": {
            "text/plain": [
              "<Figure size 360x360 with 1 Axes>"
            ],
            "image/png": "[encoded data removed]"
          },
          "metadata": {
            "needs_background": "light"
          }
        }
      ]
    },
    {
      "cell_type": "markdown",
      "source": [
        "Now lets increase the font size of the title"
      ],
      "metadata": {
        "id": "wOdSbSDOCN3Q"
      }
    },
    {
      "cell_type": "code",
      "source": [
        "sns.relplot(x=buysell_df.Price_x[buysell_df.Price_x < 400], y=buysell_df.Price_y[buysell_df.Price_x < 400])\n",
        "plt.title(\"Online Retailer Price Relationship\", loc=\"left\", fontsize=18)\n",
        "plt.show()"
      ],
      "metadata": {
        "colab": {
          "base_uri": "https://localhost:8080/",
          "height": 390
        },
        "id": "6vrMIIB-CTnL",
        "outputId": "ce0172fa-6506-4a05-f149-e51cc88fd6f4"
      },
      "execution_count": null,
      "outputs": [
        {
          "output_type": "display_data",
          "data": {
            "text/plain": [
              "<Figure size 360x360 with 1 Axes>"
            ],
            "image/png": "[encoded data removed]"
          },
          "metadata": {
            "needs_background": "light"
          }
        }
      ]
    },
    {
      "cell_type": "markdown",
      "source": [
        "Let's add better axis labels"
      ],
      "metadata": {
        "id": "eGiM18H4GSey"
      }
    },
    {
      "cell_type": "code",
      "source": [
        "sns.relplot(x=buysell_df.Price_x[buysell_df.Price_x < 400], y=buysell_df.Price_y[buysell_df.Price_x < 400])\n",
        "plt.title(\"Online Retailer Price Relationship\", loc=\"left\", fontsize=18)\n",
        "plt.xlabel(\"Retail Prices\")\n",
        "plt.ylabel(\"Buylist Prices\")\n",
        "plt.show()"
      ],
      "metadata": {
        "colab": {
          "base_uri": "https://localhost:8080/",
          "height": 389
        },
        "id": "i2yuQigkGWYX",
        "outputId": "2778516f-2bbb-449c-d1c1-6926d054a118"
      },
      "execution_count": null,
      "outputs": [
        {
          "output_type": "display_data",
          "data": {
            "text/plain": [
              "<Figure size 360x360 with 1 Axes>"
            ],
            "image/png": "[encoded data removed]"
          },
          "metadata": {
            "needs_background": "light"
          }
        }
      ]
    },
    {
      "cell_type": "markdown",
      "source": [
        "We need to increase the size of our labels"
      ],
      "metadata": {
        "id": "Hi6GqWdcGc0Y"
      }
    },
    {
      "cell_type": "code",
      "source": [
        "sns.relplot(x=buysell_df.Price_x[buysell_df.Price_x < 400], y=buysell_df.Price_y[buysell_df.Price_x < 400])\n",
        "plt.title(\"Online Retailer Price Relationship\", loc=\"left\", fontsize=18)\n",
        "plt.xlabel(\"Retail Prices\", fontsize=12)\n",
        "plt.ylabel(\"Buylist Prices\", fontsize=12)\n",
        "plt.show()"
      ],
      "metadata": {
        "colab": {
          "base_uri": "https://localhost:8080/",
          "height": 392
        },
        "id": "Q6MK_wjGGrrr",
        "outputId": "933dc7a7-3d45-4a20-9380-a4c9db813037"
      },
      "execution_count": null,
      "outputs": [
        {
          "output_type": "display_data",
          "data": {
            "text/plain": [
              "<Figure size 360x360 with 1 Axes>"
            ],
            "image/png": "[encoded data removed]"
          },
          "metadata": {
            "needs_background": "light"
          }
        }
      ]
    },
    {
      "cell_type": "markdown",
      "source": [
        "Let's annototate our graph."
      ],
      "metadata": {
        "id": "1WxgyKPeD5Fh"
      }
    },
    {
      "cell_type": "code",
      "source": [
        "sns.relplot(x=buysell_df.Price_x[buysell_df.Price_x < 400], y=buysell_df.Price_y[buysell_df.Price_x < 400])\n",
        "plt.title(\"Online Retailer Price Relationship\", loc=\"left\", fontsize=18)\n",
        "plt.xlabel(\"Retail Prices\", fontsize=12)\n",
        "plt.ylabel(\"Buylist Prices\", fontsize=12)\n",
        "plt.annotate(\"Buylist prices limited to <$400\", (150, 0))\n",
        "plt.show()"
      ],
      "metadata": {
        "colab": {
          "base_uri": "https://localhost:8080/",
          "height": 392
        },
        "id": "jXaunVRBD3_S",
        "outputId": "0bff5748-4410-44a8-ba5f-d18b14535dfa"
      },
      "execution_count": null,
      "outputs": [
        {
          "output_type": "display_data",
          "data": {
            "text/plain": [
              "<Figure size 360x360 with 1 Axes>"
            ],
            "image/png": "[encoded data removed]"
          },
          "metadata": {
            "needs_background": "light"
          }
        }
      ]
    },
    {
      "cell_type": "markdown",
      "source": [
        "Let's change our marker color to red and change the transparency to improve the visualization of the points in the bottom left corner of the graph."
      ],
      "metadata": {
        "id": "saZThVpLG-EP"
      }
    },
    {
      "cell_type": "code",
      "source": [
        "sns.relplot(x=buysell_df.Price_x[buysell_df.Price_x < 400], y=buysell_df.Price_y[buysell_df.Price_x < 400], color='red', alpha=0.1)\n",
        "plt.title(\"Online Retailer Price Relationship\", loc=\"left\", fontsize=18)\n",
        "plt.xlabel(\"Retail Prices\", fontsize=12)\n",
        "plt.ylabel(\"Buylist Prices\", fontsize=12)\n",
        "plt.annotate(\"Buylist prices limited to <$400\", (150, 0))\n",
        "plt.show()"
      ],
      "metadata": {
        "colab": {
          "base_uri": "https://localhost:8080/",
          "height": 392
        },
        "id": "IambIePXHPH5",
        "outputId": "53c61d3d-28b2-492f-f363-17bfd7f00cdd"
      },
      "execution_count": null,
      "outputs": [
        {
          "output_type": "display_data",
          "data": {
            "text/plain": [
              "<Figure size 360x360 with 1 Axes>"
            ],
            "image/png": "[encoded data removed]"
          },
          "metadata": {
            "needs_background": "light"
          }
        }
      ]
    },
    {
      "cell_type": "markdown",
      "source": [
        "Now let's replicate the bar chart that shows the percentage of cards the retailer is willing to by grouped by rarity."
      ],
      "metadata": {
        "id": "Gr1GSKdnLO8H"
      }
    },
    {
      "cell_type": "code",
      "source": [
        "sns.barplot(x=\"Rarity\", y=\"in_both\", data=bar_values)\n",
        "plt.title('Buylist Coverage', loc=\"left\", fontsize=18)\n",
        "plt.ylabel('% Cards on Buylist', fontsize=12)\n",
        "plt.xlabel('Card Rarity', fontsize=12)\n",
        "plt.show()"
      ],
      "metadata": {
        "colab": {
          "base_uri": "https://localhost:8080/",
          "height": 302
        },
        "id": "C2sw_ZMNLLIF",
        "outputId": "11656b3f-00f7-45ae-e4a1-119bde611b89"
      },
      "execution_count": null,
      "outputs": [
        {
          "output_type": "display_data",
          "data": {
            "text/plain": [
              "<Figure size 432x288 with 1 Axes>"
            ],
            "image/png": "[encoded data removed]"
          },
          "metadata": {
            "needs_background": "light"
          }
        }
      ]
    },
    {
      "cell_type": "markdown",
      "source": [
        "We've done a pretty good job of replicating the matplotlib bar chart but we have to fix the bar colors."
      ],
      "metadata": {
        "id": "HKpp6cZTPQwx"
      }
    },
    {
      "cell_type": "code",
      "source": [
        "sns.barplot(x=\"Rarity\", y=\"in_both\", data=bar_values, color='green')\n",
        "plt.title('Buylist Coverage', loc=\"left\", fontsize=18)\n",
        "plt.ylabel('% Cards on Buylist', fontsize=12)\n",
        "plt.xlabel('Card Rarity', fontsize=12)\n",
        "plt.show()"
      ],
      "metadata": {
        "colab": {
          "base_uri": "https://localhost:8080/",
          "height": 302
        },
        "id": "KEOiXgi9PaPU",
        "outputId": "b98e890b-bae0-4bb6-be70-83bb87b72470"
      },
      "execution_count": null,
      "outputs": [
        {
          "output_type": "display_data",
          "data": {
            "text/plain": [
              "<Figure size 432x288 with 1 Axes>"
            ],
            "image/png": "[encoded data removed]"
          },
          "metadata": {
            "needs_background": "light"
          }
        }
      ]
    },
    {
      "cell_type": "markdown",
      "source": [
        "Part 3:\n",
        "Conclusion"
      ],
      "metadata": {
        "id": "tSD3L3mKP8hq"
      }
    },
    {
      "cell_type": "markdown",
      "source": [
        "I found matplotlib easier to use than I expected.  It provides you with a lot of customization options.\n",
        "\n",
        "I think that Seaborn gives you better out of the box performance.  The sca"
      ],
      "metadata": {
        "id": "egqbE6GOQBOm"
      }
    },
    {
      "cell_type": "code",
      "source": [
        "expansion_list = buysell_df['Expansion'].unique()\n",
        "expansion_list = np.sort(expansion_list)\n",
        "print(expansion_list)"
      ],
      "metadata": {
        "colab": {
          "base_uri": "https://localhost:8080/"
        },
        "id": "7qQoIezyP_Zv",
        "outputId": "b5f81592-ba5f-4d79-b83b-9992924395ce"
      },
      "execution_count": null,
      "outputs": [
        {
          "output_type": "stream",
          "name": "stdout",
          "text": [
            "['10TH EDITION' '3277 STRIXHAVEN' '8TH EDITION' '9TH EDITION'\n",
            " 'ADVENTURES IN THE FORGOTTEN REALMS' 'AETHER REVOLT' 'ALARA REBORN'\n",
            " 'AMONKHET' 'AMONKHET INVOCATIONS' 'AVACYN RESTORED' 'BATTLE FOR ZENDIKAR'\n",
            " 'BETRAYERS OF KAMIGAWA' 'BORN OF THE GODS' 'CHAMPIONS OF KAMIGAWA'\n",
            " 'COLDSNAP' 'CONFLUX' 'CORE SET 2019' 'CORE SET 2020' 'CORE SET 2021'\n",
            " 'DARK ASCENSION' 'DARKSTEEL' 'DISSENSION' 'DOMINARIA' 'DRAGON S MAZE'\n",
            " 'DRAGONS OF TARKIR' 'ELDRITCH MOON' 'ETERNAL MASTERS' 'EVENTIDE'\n",
            " 'FATE REFORGED' 'FIFTH DAWN' 'FUTURESIGHT' 'GATECRASH' 'GUILDPACT'\n",
            " 'GUILDS OF RAVNICA' 'GUILDS OF RAVNICA MYTHIC EDITION'\n",
            " 'HOURS OF DEVESTATION' 'ICONIC MASTERS' 'IKORIA LAIR OF BEHEMOTHS'\n",
            " 'INNISTRAD' 'INNISTRAD CRIMSON VOW' 'INNISTRAD DOUBLE FEATURE'\n",
            " 'INNISTRAD MIDNIGHT HUNT' 'IXALAN' 'JOURNEY INTO NYX' 'JUMPSTART'\n",
            " 'KALADESH' 'KALADESH INVENTIONS' 'KALDHEIM' 'KAMIGAWA NEON DYNASTY'\n",
            " 'KHANS OF TARKIR' 'LORWYN' 'M10 CORE SET' 'M11 CORE SET' 'M12 CORE SET'\n",
            " 'M13 CORE SET' 'M14 CORE SET' 'M15 CORE SET' 'MAGIC ORIGINS' 'MASTERS 25'\n",
            " 'MIRRODIN' 'MIRRODIN BESIEGED' 'MODERN HORIZONS'\n",
            " 'MODERN HORIZONS 1 RETRO FRAMES' 'MODERN HORIZONS 2' 'MODERN MASTERS'\n",
            " 'MODERN MASTERS 2015' 'MODERN MASTERS 2017' 'MORNINGTIDE' 'NEW PHYREXIA'\n",
            " 'OATH OF THE GATEWATCH' 'PLANAR CHAOS' 'RAVNICA' 'RAVNICA ALLEGIANCE'\n",
            " 'RAVNICA ALLEGIANCE MYTHIC EDITION' 'RETURN TO RAVNICA'\n",
            " 'RISE OF THE ELDRAZI' 'RIVALS OF IXALAN' 'SAVIORS OF KAMIGAWA'\n",
            " 'SCARS OF MIRRODIN' 'SHADOWMOOR' 'SHADOWS OVER INNISTRAD'\n",
            " 'SHARDS OF ALARA' 'STRIXHAVEN MYSTICAL ARCHIVE' 'THEROS'\n",
            " 'THEROS BEYOND DEATH' 'THRONE OF ELDRAINE' 'TIME SPIRAL'\n",
            " 'TIME SPIRAL REMASTERED' 'TIME SPIRAL TIME SHIFTED' 'WAR OF THE SPARK'\n",
            " 'WAR OF THE SPARK MYTHIC EDITION' 'WORLDWAKE' 'ZENDIKAR'\n",
            " 'ZENDIKAR EXPEDITIONS' 'ZENDIKAR RISING' 'ZENDIKAR RISING EXPEDITIONS']\n"
          ]
        }
      ]
    },
    {
      "cell_type": "markdown",
      "source": [
        "We need to create a column on expansion codes based on the expansion names we currently have."
      ],
      "metadata": {
        "id": "b2mP_eKkny82"
      }
    },
    {
      "cell_type": "code",
      "source": [
        "labels = {\n",
        "    '10TH EDITION'                      : '10E',\n",
        "    '3277 STRIXHAVEN'                   : 'STX',\n",
        "    '8TH EDITION'                       : '8ED',\n",
        "    '9TH EDITION'                       : '9ED',\n",
        "    'ADVENTURES IN THE FORGOTTEN REALMS': 'AFR',\n",
        "    'AETHER REVOLT'                     : 'AER',\n",
        "    'ALARA REBORN'                      : 'ARB',\n",
        "    'AMONKHET'                          : 'AKH',\n",
        "    'AMONKHET INVOCATIONS'              : 'AKH',\n",
        "    'AVACYN RESTORED'                   : 'AVR',\n",
        "    'BATTLE FOR ZENDIKAR'               : 'BZF',\n",
        "    'BETRAYERS OF KAMIGAWA'             : 'BOK',\n",
        "    'BORN OF THE GODS'                  : 'BNG',\n",
        "    'CHAMPIONS OF KAMIGAWA'             : 'CHK',\n",
        "    'COLDSNAP'                          : 'CSP',\n",
        "    'CONFLUX'                           : 'CON',\n",
        "    'CORE SET 2019'                     : 'M19',\n",
        "    'CORE SET 2020'                     : 'M20',\n",
        "    'CORE SET 2021'                     : 'M21',\n",
        "    'DARK ASCENSION'                    : 'DKA',\n",
        "    'DARKSTEEL'                         : 'DST',\n",
        "    'DISSENSION'                        : 'DIS',\n",
        "    'DOMINARIA'                         : 'DOM',\n",
        "    'DRAGON S MAZE'                     : 'DGM',\n",
        "    'DRAGONS OF TARKIR'                 : 'DTK',\n",
        "    'ELDRITCH MOON'                     : 'EMN',\n",
        "    'ETERNAL MASTERS'                   : 'EMA',\n",
        "    'EVENTIDE'                          : 'EVE',\n",
        "    'FATE REFORGED'                     : 'FRF',\n",
        "    'FIFTH DAWN'                        : '5DN',\n",
        "    'FUTURESIGHT'                       : 'FUT',\n",
        "    'GATECRASH'                         : 'GTC',\n",
        "    'GUILDPACT'                         : 'GPT',\n",
        "    'GUILDS OF RAVNICA'                 : 'GRN',\n",
        "    'GUILDS OF RAVNICA MYTHIC EDITION'  : 'GRN',\n",
        "    'HOURS OF DEVESTATION'              : 'HOU',\n",
        "    'ICONIC MASTERS'                    : 'IMA',\n",
        "    'IKORIA LAIR OF BEHEMOTHS'          : 'IKO',\n",
        "    'INNISTRAD'                         : 'ISD',\n",
        "    'INNISTRAD CRIMSON VOW'             : 'VOW',\n",
        "    'INNISTRAD DOUBLE FEATURE'          : 'DBL',\n",
        "    'INNISTRAD MIDNIGHT HUNT'           : 'MID',\n",
        "    'IXALAN'                            : 'XLN',\n",
        "    'JOURNEY INTO NYX'                  : 'JOU',\n",
        "    'JUMPSTART'                         : 'JMP',\n",
        "    'KALADESH'                          : 'KLD',\n",
        "    'KALADESH INVENTIONS'               : 'KLD',\n",
        "    'KALDHEIM'                          : 'KHM',\n",
        "    'KAMIGAWA NEON DYNASTY'             : 'NEO',\n",
        "    'KHANS OF TARKIR'                   : 'KTK',\n",
        "    'LORWYN'                            : 'LRW',\n",
        "    'M10 CORE SET'                      : 'M10',\n",
        "    'M11 CORE SET'                      : 'M11',\n",
        "    'M12 CORE SET'                      : 'M12',\n",
        "    'M13 CORE SET'                      : 'M13',\n",
        "    'M14 CORE SET'                      : 'M14',\n",
        "    'M15 CORE SET'                      : 'M15',\n",
        "    'MAGIC ORIGINS'                     : 'ORI',\n",
        "    'MASTERS 25'                        : 'A25',\n",
        "    'MIRRODIN'                          : 'MRD',\n",
        "    'MIRRODIN BESIEGED'                 : 'MBS',\n",
        "    'MODERN HORIZONS'                   : 'MH1',\n",
        "    'MODERN HORIZONS 1 RETRO FRAMES'    : 'MH1',\n",
        "    'MODERN HORIZONS 2'                 : 'MH2',\n",
        "    'MODERN MASTERS'                    : 'MMA',\n",
        "    'MODERN MASTERS 2015'               : 'MM2',\n",
        "    'MODERN MASTERS 2017'               : 'MM3',\n",
        "    'MORNINGTIDE'                       : 'MOR',\n",
        "    'NEW PHYREXIA'                      : 'NPH',\n",
        "    'OATH OF THE GATEWATCH'             : 'OGW',\n",
        "    'PLANAR CHAOS'                      : 'PLC',\n",
        "    'RAVNICA'                           : 'RAV',\n",
        "    'RAVNICA ALLEGIANCE'                : 'RNA',\n",
        "    'RAVNICA ALLEGIANCE MYTHIC EDITION' : 'RNA',\n",
        "    'RETURN TO RAVNICA'                 : 'RTR',\n",
        "    'RISE OF THE ELDRAZI'               : 'ROE',\n",
        "    'RIVALS OF IXALAN'                  : 'RIX',\n",
        "    'SAVIORS OF KAMIGAWA'               : 'SOK',\n",
        "    'SCARS OF MIRRODIN'                 : 'SOM',\n",
        "    'SHADOWMOOR'                        : 'SHM',\n",
        "    'SHADOWS OVER INNISTRAD'            : 'SOI',\n",
        "    'SHARDS OF ALARA'                   : 'ALA',\n",
        "    'STRIXHAVEN MYSTICAL ARCHIVE'       : 'STA',\n",
        "    'THEROS'                            : 'THS',\n",
        "    'THEROS BEYOND DEATH'               : 'THB',\n",
        "    'THRONE OF ELDRAINE'                : 'ELD',\n",
        "    'TIME SPIRAL'                       : 'TSP',\n",
        "    'TIME SPIRAL REMASTERED'            : 'TSR',\n",
        "    'TIME SPIRAL TIME SHIFTED'          : 'TSB',\n",
        "    'WAR OF THE SPARK'                  : 'WAR',\n",
        "    'WAR OF THE SPARK MYTHIC EDITION'   : 'WAR',\n",
        "    'WORLDWAKE'                         : 'WWK',\n",
        "    'ZENDIKAR'                          : 'ZEN',\n",
        "    'ZENDIKAR EXPEDITIONS'              : 'EXP',\n",
        "    'ZENDIKAR RISING'                   : 'ZNR',\n",
        "    'ZENDIKAR RISING EXPEDITIONS'       : 'ZNE'\n",
        "}\n",
        "buysell_df['Expansion_Code'] = buysell_df['Expansion'].map(labels)"
      ],
      "metadata": {
        "id": "3Sn9qie7oF_V"
      },
      "execution_count": null,
      "outputs": []
    },
    {
      "cell_type": "code",
      "source": [
        "buysell_df.Expansion_Code.value_counts()"
      ],
      "metadata": {
        "colab": {
          "base_uri": "https://localhost:8080/"
        },
        "id": "XUsAMi_D6RgH",
        "outputId": "327ae1ab-266d-4e99-9751-e536d5adcdda"
      },
      "execution_count": null,
      "outputs": [
        {
          "output_type": "execute_result",
          "data": {
            "text/plain": [
              "NEO    600\n",
              "VOW    493\n",
              "AFR    440\n",
              "MID    439\n",
              "STX    363\n",
              "      ... \n",
              "CON     16\n",
              "EVE     16\n",
              "BNG     13\n",
              "ORI     12\n",
              "DBL      3\n",
              "Name: Expansion_Code, Length: 90, dtype: int64"
            ]
          },
          "metadata": {},
          "execution_count": 85
        }
      ]
    },
    {
      "cell_type": "code",
      "source": [
        "buysell_df.Expansion_Code.isna().sum()"
      ],
      "metadata": {
        "colab": {
          "base_uri": "https://localhost:8080/"
        },
        "id": "a5jO-kxv7Rew",
        "outputId": "b71eba2b-6380-41e5-88c5-b8ad819b8216"
      },
      "execution_count": null,
      "outputs": [
        {
          "output_type": "execute_result",
          "data": {
            "text/plain": [
              "0"
            ]
          },
          "metadata": {},
          "execution_count": 86
        }
      ]
    },
    {
      "cell_type": "code",
      "source": [
        "buysell_expansions = buysell_df.Expansion_Code.unique()"
      ],
      "metadata": {
        "id": "g9p5d5jST7el"
      },
      "execution_count": null,
      "outputs": []
    },
    {
      "cell_type": "code",
      "source": [
        "all_cards_df = pd.read_csv(\"https://raw.githubusercontent.com/catfoodlover/DATA602/main/reduced_all.csv\", index_col='Unnamed: 0')"
      ],
      "metadata": {
        "id": "cUwG7yAQaUs6"
      },
      "execution_count": null,
      "outputs": []
    },
    {
      "cell_type": "code",
      "source": [
        "all_cards_df.columns"
      ],
      "metadata": {
        "colab": {
          "base_uri": "https://localhost:8080/"
        },
        "id": "-v8EDSlgbAeP",
        "outputId": "54e0fc75-43c5-44f9-c05d-ef533cefdb4d"
      },
      "execution_count": null,
      "outputs": [
        {
          "output_type": "execute_result",
          "data": {
            "text/plain": [
              "Index(['name', 'setCode', 'rarity'], dtype='object')"
            ]
          },
          "metadata": {},
          "execution_count": 88
        }
      ]
    },
    {
      "cell_type": "code",
      "source": [
        "all_cards_df.rename(columns={'name':'Name', 'setCode':'Expansion_Code', 'rarity':'All_Cards_Rarity'}, inplace=True)\n",
        "all_cards_df.columns"
      ],
      "metadata": {
        "colab": {
          "base_uri": "https://localhost:8080/"
        },
        "id": "3VCQ10upJqC0",
        "outputId": "6187429f-e9f9-442d-bd03-a0dec368e03f"
      },
      "execution_count": null,
      "outputs": [
        {
          "output_type": "execute_result",
          "data": {
            "text/plain": [
              "Index(['Name', 'Expansion_Code', 'All_Cards_Rarity'], dtype='object')"
            ]
          },
          "metadata": {},
          "execution_count": 89
        }
      ]
    },
    {
      "cell_type": "code",
      "source": [
        "all_cards_df.Expansion_Code.unique()"
      ],
      "metadata": {
        "colab": {
          "base_uri": "https://localhost:8080/"
        },
        "id": "IWmo8GbXjkym",
        "outputId": "4612803a-ffc3-4ec7-a18e-e7e5ecd703a2"
      },
      "execution_count": null,
      "outputs": [
        {
          "output_type": "execute_result",
          "data": {
            "text/plain": [
              "array(['10E', '2ED', '2XM', '3ED', '4BB', '4ED', '5DN', '5ED', '6ED',\n",
              "       '7ED', '8ED', '9ED', 'A25', 'AER', 'AFC', 'AFR', 'AJMP', 'AKH',\n",
              "       'AKR', 'ALA', 'ALL', 'ANA', 'ANB', 'APC', 'ARB', 'ARC', 'ARN',\n",
              "       'ATH', 'ATQ', 'AVR', 'BBD', 'BFZ', 'BNG', 'BOK', 'BRB', 'BTD',\n",
              "       'C13', 'C14', 'C15', 'C16', 'C17', 'C18', 'C19', 'C20', 'C21',\n",
              "       'CC1', 'CC2', 'CED', 'CEI', 'CHK', 'CHR', 'CLB', 'CM1', 'CM2',\n",
              "       'CMA', 'CMB1', 'CMB2', 'CMD', 'CMR', 'CN2', 'CNS', 'CON', 'CP1',\n",
              "       'CP2', 'CP3', 'CSP', 'CST', 'DBL', 'DD1', 'DD2', 'DDC', 'DDD',\n",
              "       'DDE', 'DDF', 'DDG', 'DDH', 'DDI', 'DDJ', 'DDK', 'DDL', 'DDM',\n",
              "       'DDN', 'DDO', 'DDP', 'DDQ', 'DDR', 'DDS', 'DDT', 'DDU', 'DGM',\n",
              "       'DIS', 'DKA', 'DKM', 'DOM', 'DPA', 'DRB', 'DRK', 'DST', 'DTK',\n",
              "       'DVD', 'E01', 'E02', 'ELD', 'EMA', 'EMN', 'EVE', 'EVG', 'EXO',\n",
              "       'EXP', 'F01', 'F02', 'F03', 'F04', 'F05', 'F06', 'F07', 'F08',\n",
              "       'F09', 'F10', 'F11', 'F12', 'F13', 'F14', 'F15', 'F16', 'F17',\n",
              "       'FBB', 'FEM', 'FMB1', 'FNM', 'FRF', 'FUT', 'G00', 'G01', 'G02',\n",
              "       'G03', 'G04', 'G05', 'G06', 'G07', 'G08', 'G09', 'G10', 'G11',\n",
              "       'G17', 'G18', 'G99', 'GDY', 'GK1', 'GK2', 'GN2', 'GNT', 'GPT',\n",
              "       'GRN', 'GS1', 'GTC', 'GVL', 'H09', 'H17', 'H1R', 'HA1', 'HA2',\n",
              "       'HA3', 'HA4', 'HA5', 'HHO', 'HML', 'HOP', 'HOU', 'HTR16', 'HTR17',\n",
              "       'HTR18', 'HTR19', 'HTR20', 'ICE', 'IKO', 'IMA', 'INV', 'ISD',\n",
              "       'ITP', 'J12', 'J13', 'J14', 'J15', 'J16', 'J17', 'J18', 'J19',\n",
              "       'J20', 'J21', 'JGP', 'JMP', 'JOU', 'JUD', 'JVC', 'KHC', 'KHM',\n",
              "       'KLD', 'KLR', 'KTK', 'LEA', 'LEB', 'LEG', 'LGN', 'LRW', 'M10',\n",
              "       'M11', 'M12', 'M13', 'M14', 'M15', 'M19', 'M20', 'M21', 'MB1',\n",
              "       'MBS', 'MD1', 'ME1', 'ME2', 'ME3', 'ME4', 'MED', 'MGB', 'MH1',\n",
              "       'MH2', 'MIC', 'MID', 'MIR', 'MM2', 'MM3', 'MMA', 'MMQ', 'MOR',\n",
              "       'MP2', 'MPR', 'MPS', 'MRD', 'NCC', 'NEC', 'NEM', 'NEO', 'NPH',\n",
              "       'OAFC', 'OANA', 'OARC', 'OC13', 'OC14', 'OC15', 'OC16', 'OC17',\n",
              "       'OC18', 'OC19', 'OC20', 'OC21', 'OCM1', 'OCMD', 'ODY', 'OE01',\n",
              "       'OGW', 'OHOP', 'OLGC', 'OMIC', 'ONS', 'OPC2', 'OPCA', 'ORI',\n",
              "       'OVNT', 'OVOC', 'P02', 'P03', 'P04', 'P05', 'P06', 'P07', 'P08',\n",
              "       'P09', 'P10', 'P10E', 'P11', 'P15A', 'P22', 'P2HG', 'P5DN', 'P8ED',\n",
              "       'P9ED', 'PAER', 'PAFR', 'PAKH', 'PAL00', 'PAL01', 'PAL02', 'PAL03',\n",
              "       'PAL04', 'PAL05', 'PAL06', 'PAL99', 'PALA', 'PALP', 'PANA', 'PAPC',\n",
              "       'PARB', 'PARC', 'PARL', 'PAST', 'PAVR', 'PBBD', 'PBFZ', 'PBNG',\n",
              "       'PBOK', 'PBOOK', 'PC2', 'PCA', 'PCEL', 'PCHK', 'PCMD', 'PCMP',\n",
              "       'PCNS', 'PCON', 'PCSP', 'PCY', 'PD2', 'PD3', 'PDGM', 'PDIS',\n",
              "       'PDKA', 'PDOM', 'PDP10', 'PDP12', 'PDP13', 'PDP14', 'PDP15',\n",
              "       'PDRC', 'PDST', 'PDTK', 'PDTP', 'PELD', 'PELP', 'PEMN', 'PEVE',\n",
              "       'PEXO', 'PF19', 'PF20', 'PF21', 'PFRF', 'PFUT', 'PG07', 'PG08',\n",
              "       'PGPT', 'PGPX', 'PGRN', 'PGRU', 'PGTC', 'PGTW', 'PHED', 'PHEL',\n",
              "       'PHJ', 'PHOP', 'PHOU', 'PHPR', 'PHUK', 'PI13', 'PI14', 'PIDW',\n",
              "       'PIKO', 'PINV', 'PISD', 'PJ21', 'PJAS', 'PJJT', 'PJOU', 'PJSE',\n",
              "       'PJUD', 'PKHM', 'PKLD', 'PKTK', 'PL21', 'PL22', 'PLC', 'PLG20',\n",
              "       'PLG21', 'PLGM', 'PLGN', 'PLIST', 'PLRW', 'PLS', 'PM10', 'PM11',\n",
              "       'PM12', 'PM13', 'PM14', 'PM15', 'PM19', 'PM20', 'PM21', 'PMBS',\n",
              "       'PMEI', 'PMH1', 'PMH2', 'PMIC', 'PMID', 'PMMQ', 'PMOA', 'PMOR',\n",
              "       'PMPS', 'PMPS06', 'PMPS07', 'PMPS08', 'PMPS09', 'PMPS10', 'PMPS11',\n",
              "       'PMRD', 'PNAT', 'PNEM', 'PNEO', 'PNPH', 'PODY', 'POGW', 'PONS',\n",
              "       'POR', 'PORI', 'PPC1', 'PPCY', 'PPLC', 'PPLS', 'PPOD', 'PPP1',\n",
              "       'PPRO', 'PPTK', 'PRAV', 'PRED', 'PRES', 'PRIX', 'PRM', 'PRNA',\n",
              "       'PROE', 'PRTR', 'PRW2', 'PRWK', 'PS11', 'PS14', 'PS15', 'PS16',\n",
              "       'PS17', 'PS18', 'PS19', 'PSAL', 'PSCG', 'PSDC', 'PSDG', 'PSHM',\n",
              "       'PSOI', 'PSOK', 'PSOM', 'PSS1', 'PSS2', 'PSS3', 'PSTH', 'PSTX',\n",
              "       'PSUM', 'PSUS', 'PTC', 'PTG', 'PTHB', 'PTHS', 'PTK', 'PTKDF',\n",
              "       'PTMP', 'PTOR', 'PTSP', 'PUDS', 'PULG', 'PUMA', 'PUNH', 'PURL',\n",
              "       'PUSG', 'PUST', 'PVAN', 'PVOW', 'PW09', 'PW10', 'PW11', 'PW12',\n",
              "       'PW21', 'PW22', 'PWAR', 'PWCQ', 'PWOR', 'PWOS', 'PWPN', 'PWWK',\n",
              "       'PXLN', 'PXTC', 'PZ1', 'PZ2', 'PZEN', 'PZNR', 'Q06', 'RAV', 'REN',\n",
              "       'RIN', 'RIX', 'RNA', 'ROE', 'RQS', 'RTR', 'S00', 'S99', 'SCG',\n",
              "       'SHM', 'SLD', 'SLU', 'SLX', 'SNC', 'SOI', 'SOK', 'SOM', 'SS1',\n",
              "       'SS2', 'SS3', 'STA', 'STH', 'STX', 'SUM', 'TBTH', 'TD0', 'TD2',\n",
              "       'TDAG', 'TFTH', 'THB', 'THP1', 'THP2', 'THP3', 'THS', 'TMP', 'TOR',\n",
              "       'TPR', 'TSB', 'TSP', 'TSR', 'UDS', 'UGIN', 'UGL', 'ULG', 'UMA',\n",
              "       'UND', 'UNF', 'UNH', 'USG', 'UST', 'V09', 'V10', 'V11', 'V12',\n",
              "       'V13', 'V14', 'V15', 'V16', 'V17', 'VIS', 'VMA', 'VOC', 'VOW',\n",
              "       'W16', 'W17', 'WAR', 'WC00', 'WC01', 'WC02', 'WC03', 'WC04',\n",
              "       'WC97', 'WC98', 'WC99', 'WTH', 'WWK', 'XANA', 'XLN', 'YMID',\n",
              "       'YNEO', 'ZEN', 'ZNC', 'ZNE', 'ZNR'], dtype=object)"
            ]
          },
          "metadata": {},
          "execution_count": 90
        }
      ]
    },
    {
      "cell_type": "code",
      "source": [
        "buysell_df.drop('_merge', axis=1, inplace=True)\n",
        "buysell_df.columns"
      ],
      "metadata": {
        "colab": {
          "base_uri": "https://localhost:8080/"
        },
        "id": "VA0q-65xzFRK",
        "outputId": "ddac9e06-4c2e-4f64-d223-89994ba06a8d"
      },
      "execution_count": null,
      "outputs": [
        {
          "output_type": "execute_result",
          "data": {
            "text/plain": [
              "Index(['Name', 'Rarity', 'Quantity_x', 'Price_x', 'Language', 'Finish',\n",
              "       'Condition', 'Expansion', 'Quantity_y', 'Price_y', 'in_both',\n",
              "       'left_only', 'Expansion_Code'],\n",
              "      dtype='object')"
            ]
          },
          "metadata": {},
          "execution_count": 91
        }
      ]
    },
    {
      "cell_type": "code",
      "source": [
        "all_cards_df['Name'] = all_cards_df['Name'].str.upper()"
      ],
      "metadata": {
        "id": "yLzSPGFCQGIS"
      },
      "execution_count": null,
      "outputs": []
    },
    {
      "cell_type": "code",
      "source": [
        "all_cards_buysell_df = all_cards_df.merge(buysell_df, on=['Name','Expansion_Code'], how ='left', indicator=True)"
      ],
      "metadata": {
        "id": "55QULj6GOU17"
      },
      "execution_count": null,
      "outputs": []
    },
    {
      "cell_type": "code",
      "source": [
        "all_cards_buysell_df.columns"
      ],
      "metadata": {
        "colab": {
          "base_uri": "https://localhost:8080/"
        },
        "id": "bA5e6_k0Ph1I",
        "outputId": "5471fa31-6d21-4ae9-c5a6-bb8342c51ab7"
      },
      "execution_count": null,
      "outputs": [
        {
          "output_type": "execute_result",
          "data": {
            "text/plain": [
              "Index(['Name', 'Expansion_Code', 'All_Cards_Rarity', 'Rarity', 'Quantity_x',\n",
              "       'Price_x', 'Language', 'Finish', 'Condition', 'Expansion', 'Quantity_y',\n",
              "       'Price_y', 'in_both', 'left_only', '_merge'],\n",
              "      dtype='object')"
            ]
          },
          "metadata": {},
          "execution_count": 94
        }
      ]
    },
    {
      "cell_type": "code",
      "source": [
        "all_cards_buysell_df._merge.value_counts()"
      ],
      "metadata": {
        "colab": {
          "base_uri": "https://localhost:8080/"
        },
        "id": "kCZq1uQPPki5",
        "outputId": "bf42dd32-17f0-4c8b-8b8e-ff64240bb3ad"
      },
      "execution_count": null,
      "outputs": [
        {
          "output_type": "execute_result",
          "data": {
            "text/plain": [
              "left_only     54471\n",
              "both           4575\n",
              "right_only        0\n",
              "Name: _merge, dtype: int64"
            ]
          },
          "metadata": {},
          "execution_count": 95
        }
      ]
    },
    {
      "cell_type": "code",
      "source": [
        "all_cards_buysell_df = all_cards_buysell_df[all_cards_buysell_df[\"Expansion_Code\"].isin(buysell_expansions)]"
      ],
      "metadata": {
        "id": "yFHlyhIfUijI"
      },
      "execution_count": null,
      "outputs": []
    },
    {
      "cell_type": "code",
      "source": [
        "all_cards_buysell_df._merge.value_counts()"
      ],
      "metadata": {
        "colab": {
          "base_uri": "https://localhost:8080/"
        },
        "id": "OwczZAgIVqgo",
        "outputId": "52575561-3b2f-45fc-b1c9-97c48494ca98"
      },
      "execution_count": null,
      "outputs": [
        {
          "output_type": "execute_result",
          "data": {
            "text/plain": [
              "left_only     17386\n",
              "both           4575\n",
              "right_only        0\n",
              "Name: _merge, dtype: int64"
            ]
          },
          "metadata": {},
          "execution_count": 99
        }
      ]
    },
    {
      "cell_type": "code",
      "source": [
        "all_cards_buysell_df[all_cards_buysell_df._merge == 'left_only'].Name"
      ],
      "metadata": {
        "colab": {
          "base_uri": "https://localhost:8080/"
        },
        "id": "wPRqyN8DV5O7",
        "outputId": "45864cb5-be0c-4e0f-8a5d-b72b9a5fd033"
      },
      "execution_count": null,
      "outputs": [
        {
          "output_type": "execute_result",
          "data": {
            "text/plain": [
              "0        ANCESTOR'S CHOSEN\n",
              "1           ANGEL OF MERCY\n",
              "2         ANGELIC BLESSING\n",
              "3           ANGELIC CHORUS\n",
              "4             ANGELIC WALL\n",
              "               ...        \n",
              "59041               PLAINS\n",
              "59042               ISLAND\n",
              "59043                SWAMP\n",
              "59044             MOUNTAIN\n",
              "59045               FOREST\n",
              "Name: Name, Length: 17386, dtype: object"
            ]
          },
          "metadata": {},
          "execution_count": 100
        }
      ]
    },
    {
      "cell_type": "code",
      "source": [
        "basic_land = ['PLAINS', 'ISLAND', 'SWAMP', 'MOUNTAIN', 'FOREST']\n",
        "all_cards_buysell_df = all_cards_buysell_df[~all_cards_buysell_df[\"Name\"].isin(basic_land)]"
      ],
      "metadata": {
        "id": "HJBEsXXKWkZz"
      },
      "execution_count": null,
      "outputs": []
    },
    {
      "cell_type": "code",
      "source": [
        "bad_joins = buysell_df.merge(all_cards_df, on=['Name','Expansion_Code'], how ='left', indicator=True)"
      ],
      "metadata": {
        "id": "iZ3ISWw9YLlp"
      },
      "execution_count": null,
      "outputs": []
    },
    {
      "cell_type": "code",
      "source": [
        "for_review = bad_joins.loc[bad_joins._merge == 'left_only',['Name','Expansion_Code']]\n",
        "print(for_review)"
      ],
      "metadata": {
        "colab": {
          "base_uri": "https://localhost:8080/"
        },
        "id": "4CkBo5_NZxS2",
        "outputId": "7013fc59-0e12-4c14-9f19-3f73486d9dd6"
      },
      "execution_count": null,
      "outputs": [
        {
          "output_type": "stream",
          "name": "stdout",
          "text": [
            "                            Name Expansion_Code\n",
            "39          DOCENT OF PERFECTION            EMN\n",
            "42      GISELA, THE BROKEN BLADE            EMN\n",
            "57    ULRICH OF THE KRALLENHORDE            EMN\n",
            "58    ULRICH OF THE KRALLENHORDE            EMN\n",
            "59               VOLDAREN PARIAH            EMN\n",
            "...                          ...            ...\n",
            "6577                     WORSHIP            AKH\n",
            "6578                WRATH OF GOD            AKH\n",
            "6579      LILIANA, THE LAST HOPE            GRN\n",
            "6580   TEFERI, HERO OF DOMINARIA            GRN\n",
            "6581    TEZZERET, AGENT OF BOLAS            GRN\n",
            "\n",
            "[2007 rows x 2 columns]\n"
          ]
        }
      ]
    },
    {
      "cell_type": "code",
      "source": [
        "#for_review.to_csv(\"for_review.csv\")"
      ],
      "metadata": {
        "id": "-IJTQsDGbDXr"
      },
      "execution_count": null,
      "outputs": []
    },
    {
      "cell_type": "code",
      "source": [
        "all_cards_buysell_df[all_cards_buysell_df._merge == 'left_only'].Name"
      ],
      "metadata": {
        "colab": {
          "base_uri": "https://localhost:8080/"
        },
        "id": "bwGw58GHXP-M",
        "outputId": "749d39c9-5786-4825-fb48-790893700936"
      },
      "execution_count": null,
      "outputs": [
        {
          "output_type": "execute_result",
          "data": {
            "text/plain": [
              "0                                 ANCESTOR'S CHOSEN\n",
              "1                                    ANGEL OF MERCY\n",
              "2                                  ANGELIC BLESSING\n",
              "3                                    ANGELIC CHORUS\n",
              "4                                      ANGELIC WALL\n",
              "                            ...                    \n",
              "59034       CLEARWATER PATHWAY // MURKWATER PATHWAY\n",
              "59035      CRAGCROWN PATHWAY // TIMBERCROWN PATHWAY\n",
              "59038    NEEDLEVERGE PATHWAY // PILLARVERGE PATHWAY\n",
              "59039       RIVERGLIDE PATHWAY // LAVAGLIDE PATHWAY\n",
              "59040                             THRONE OF MAKINDI\n",
              "Name: Name, Length: 17117, dtype: object"
            ]
          },
          "metadata": {},
          "execution_count": 104
        }
      ]
    },
    {
      "cell_type": "code",
      "source": [
        "for_review_all = all_cards_buysell_df.loc[all_cards_buysell_df._merge == 'left_only',['Name','Expansion_Code']]"
      ],
      "metadata": {
        "id": "ZB-ZxZKXev02"
      },
      "execution_count": null,
      "outputs": []
    },
    {
      "cell_type": "code",
      "source": [
        "#for_review_all.to_csv(\"for_review_all.csv\")"
      ],
      "metadata": {
        "id": "BMHMRvIfe-DF"
      },
      "execution_count": null,
      "outputs": []
    },
    {
      "cell_type": "markdown",
      "source": [
        "We are missing rarity of some cards which is screwing up our percentages.  Only 'RARE' rarity is documented for 'ELDRITCH MOON'"
      ],
      "metadata": {
        "id": "P4wHe0lv0pDM"
      }
    },
    {
      "cell_type": "code",
      "source": [
        "sub_expansions = expansion_list[:7]\n",
        "#fig = plt.figure()\n",
        "#fig.subplots_adjust(hspace=0.4, wspace=0.4)\n",
        "for i in range(1, len(sub_expansions)):\n",
        "    #ax = fig.add_subplot(6, 3, i)\n",
        "    bar_values = buysell_df[buysell_df['Expansion']== sub_expansions[i]].groupby(['Rarity'])['left_only'].mean()\n",
        "    print(sub_expansions[i], bar_values)"
      ],
      "metadata": {
        "colab": {
          "base_uri": "https://localhost:8080/"
        },
        "id": "4RWrG6MCx_gA",
        "outputId": "b6a71d1b-7637-4555-ee33-b11775c87146"
      },
      "execution_count": null,
      "outputs": [
        {
          "output_type": "stream",
          "name": "stdout",
          "text": [
            "ELDRITCH MOON Rarity\n",
            "RARE    1.0\n",
            "Name: left_only, dtype: float64\n",
            "3277 STRIXHAVEN Rarity\n",
            "COMMON      0.980392\n",
            "MYTHIC      0.421053\n",
            "RARE        0.816327\n",
            "UNCOMMON    0.947368\n",
            "Name: left_only, dtype: float64\n",
            "GUILDS OF RAVNICA Rarity\n",
            "MYTHIC      0.333333\n",
            "RARE        0.333333\n",
            "UNCOMMON    0.444444\n",
            "Name: left_only, dtype: float64\n",
            "BATTLE FOR ZENDIKAR Rarity\n",
            "COMMON      0.720000\n",
            "MYTHIC      0.166667\n",
            "RARE        0.588235\n",
            "UNCOMMON    1.000000\n",
            "Name: left_only, dtype: float64\n",
            "KALADESH INVENTIONS Rarity\n",
            "S    0.181818\n",
            "Name: left_only, dtype: float64\n",
            "MODERN HORIZONS 1 RETRO FRAMES Rarity\n",
            "MYTHIC      0.375000\n",
            "RARE        0.625000\n",
            "UNCOMMON    0.444444\n",
            "Name: left_only, dtype: float64\n"
          ]
        }
      ]
    },
    {
      "cell_type": "code",
      "source": [
        "sub_expansions = expansion_list[:7]\n",
        "fig = plt.figure()\n",
        "#fig.subplots_adjust(hspace=0.4, wspace=0.4)\n",
        "for i in range(1, len(sub_expansions)):\n",
        "    ax = fig.add_subplot(6, 3, i)\n",
        "    bar_values = buysell_df[buysell_df['Expansion']== sub_expansions[i]].groupby(['Rarity'])['in_both'].mean()\n",
        "    bar_values.plot(kind='bar')\n",
        "\n"
      ],
      "metadata": {
        "id": "C5IGLG3DP2X5",
        "colab": {
          "base_uri": "https://localhost:8080/",
          "height": 185
        },
        "outputId": "17b4685c-d747-453e-b07c-c522847bd3ef"
      },
      "execution_count": null,
      "outputs": [
        {
          "output_type": "display_data",
          "data": {
            "text/plain": [
              "<Figure size 432x288 with 6 Axes>"
            ],
            "image/png": "[encoded data removed]"
          },
          "metadata": {
            "needs_background": "light"
          }
        }
      ]
    },
    {
      "cell_type": "markdown",
      "source": [
        ""
      ],
      "metadata": {
        "id": "vFa4bNTyDbzb"
      }
    },
    {
      "cell_type": "markdown",
      "source": [
        "# Conclusions  \n",
        "\n",
        "After exploring your dataset, provide a short summary of what you noticed from this dataset.  "
      ],
      "metadata": {
        "id": "tujjevRpXEen"
      }
    },
    {
      "cell_type": "code",
      "source": [
        ""
      ],
      "metadata": {
        "id": "SshtuQj9XR5_"
      },
      "execution_count": null,
      "outputs": []
    }
  ]
}